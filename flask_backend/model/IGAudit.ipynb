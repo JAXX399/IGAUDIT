{
 "cells": [
  {
   "cell_type": "code",
   "execution_count": 28,
   "metadata": {},
   "outputs": [
    {
     "name": "stdout",
     "output_type": "stream",
     "text": [
      "Note: you may need to restart the kernel to use updated packages.\n",
      "Note: you may need to restart the kernel to use updated packages.\n"
     ]
    }
   ],
   "source": [
    "# Imports\n",
    "%pip install -q pandas numpy matplotlib seaborn scikit-learn\n",
    "%pip install -q instagram-private-api\n",
    "\n",
    "import numpy as np\n",
    "import pandas as pd\n",
    "import seaborn as sns\n",
    "import matplotlib.pyplot as plt\n",
    "%matplotlib inline\n",
    "\n",
    "from sklearn.linear_model import LogisticRegression\n",
    "from sklearn.neighbors import KNeighborsClassifier\n",
    "from sklearn.tree import DecisionTreeClassifier\n",
    "from sklearn.ensemble import RandomForestClassifier\n",
    "from sklearn.metrics import accuracy_score, confusion_matrix, classification_report\n",
    "from sklearn.model_selection import GridSearchCV, cross_val_score, StratifiedKFold, learning_curve\n",
    "from sklearn.ensemble import RandomForestClassifier, AdaBoostClassifier, GradientBoostingClassifier, ExtraTreesClassifier, VotingClassifier\n",
    "\n",
    "from instagram_private_api import Client, ClientCompatPatch\n",
    "import getpass\n",
    "\n",
    "import random"
   ]
  },
  {
   "cell_type": "markdown",
   "metadata": {},
   "source": [
    "Import the data"
   ]
  },
  {
   "cell_type": "code",
   "execution_count": 29,
   "metadata": {},
   "outputs": [],
   "source": [
    "train = pd.read_csv(\"train.csv\")\n",
    "test = pd.read_csv(\"test.csv\")"
   ]
  },
  {
   "cell_type": "markdown",
   "metadata": {},
   "source": [
    "Inspect the training data"
   ]
  },
  {
   "cell_type": "code",
   "execution_count": 30,
   "metadata": {},
   "outputs": [
    {
     "data": {
      "text/html": [
       "<div>\n",
       "<style scoped>\n",
       "    .dataframe tbody tr th:only-of-type {\n",
       "        vertical-align: middle;\n",
       "    }\n",
       "\n",
       "    .dataframe tbody tr th {\n",
       "        vertical-align: top;\n",
       "    }\n",
       "\n",
       "    .dataframe thead th {\n",
       "        text-align: right;\n",
       "    }\n",
       "</style>\n",
       "<table border=\"1\" class=\"dataframe\">\n",
       "  <thead>\n",
       "    <tr style=\"text-align: right;\">\n",
       "      <th></th>\n",
       "      <th>profile pic</th>\n",
       "      <th>nums/length username</th>\n",
       "      <th>fullname words</th>\n",
       "      <th>nums/length fullname</th>\n",
       "      <th>name==username</th>\n",
       "      <th>description length</th>\n",
       "      <th>external URL</th>\n",
       "      <th>private</th>\n",
       "      <th>#posts</th>\n",
       "      <th>#followers</th>\n",
       "      <th>#follows</th>\n",
       "      <th>fake</th>\n",
       "    </tr>\n",
       "  </thead>\n",
       "  <tbody>\n",
       "    <tr>\n",
       "      <th>0</th>\n",
       "      <td>1</td>\n",
       "      <td>0.27</td>\n",
       "      <td>0</td>\n",
       "      <td>0.0</td>\n",
       "      <td>0</td>\n",
       "      <td>53</td>\n",
       "      <td>0</td>\n",
       "      <td>0</td>\n",
       "      <td>32</td>\n",
       "      <td>1000</td>\n",
       "      <td>955</td>\n",
       "      <td>0</td>\n",
       "    </tr>\n",
       "    <tr>\n",
       "      <th>1</th>\n",
       "      <td>1</td>\n",
       "      <td>0.00</td>\n",
       "      <td>2</td>\n",
       "      <td>0.0</td>\n",
       "      <td>0</td>\n",
       "      <td>44</td>\n",
       "      <td>0</td>\n",
       "      <td>0</td>\n",
       "      <td>286</td>\n",
       "      <td>2740</td>\n",
       "      <td>533</td>\n",
       "      <td>0</td>\n",
       "    </tr>\n",
       "    <tr>\n",
       "      <th>2</th>\n",
       "      <td>1</td>\n",
       "      <td>0.10</td>\n",
       "      <td>2</td>\n",
       "      <td>0.0</td>\n",
       "      <td>0</td>\n",
       "      <td>0</td>\n",
       "      <td>0</td>\n",
       "      <td>1</td>\n",
       "      <td>13</td>\n",
       "      <td>159</td>\n",
       "      <td>98</td>\n",
       "      <td>0</td>\n",
       "    </tr>\n",
       "    <tr>\n",
       "      <th>3</th>\n",
       "      <td>1</td>\n",
       "      <td>0.00</td>\n",
       "      <td>1</td>\n",
       "      <td>0.0</td>\n",
       "      <td>0</td>\n",
       "      <td>82</td>\n",
       "      <td>0</td>\n",
       "      <td>0</td>\n",
       "      <td>679</td>\n",
       "      <td>414</td>\n",
       "      <td>651</td>\n",
       "      <td>0</td>\n",
       "    </tr>\n",
       "    <tr>\n",
       "      <th>4</th>\n",
       "      <td>1</td>\n",
       "      <td>0.00</td>\n",
       "      <td>2</td>\n",
       "      <td>0.0</td>\n",
       "      <td>0</td>\n",
       "      <td>0</td>\n",
       "      <td>0</td>\n",
       "      <td>1</td>\n",
       "      <td>6</td>\n",
       "      <td>151</td>\n",
       "      <td>126</td>\n",
       "      <td>0</td>\n",
       "    </tr>\n",
       "  </tbody>\n",
       "</table>\n",
       "</div>"
      ],
      "text/plain": [
       "   profile pic  nums/length username  fullname words  nums/length fullname  \\\n",
       "0            1                  0.27               0                   0.0   \n",
       "1            1                  0.00               2                   0.0   \n",
       "2            1                  0.10               2                   0.0   \n",
       "3            1                  0.00               1                   0.0   \n",
       "4            1                  0.00               2                   0.0   \n",
       "\n",
       "   name==username  description length  external URL  private  #posts  \\\n",
       "0               0                  53             0        0      32   \n",
       "1               0                  44             0        0     286   \n",
       "2               0                   0             0        1      13   \n",
       "3               0                  82             0        0     679   \n",
       "4               0                   0             0        1       6   \n",
       "\n",
       "   #followers  #follows  fake  \n",
       "0        1000       955     0  \n",
       "1        2740       533     0  \n",
       "2         159        98     0  \n",
       "3         414       651     0  \n",
       "4         151       126     0  "
      ]
     },
     "execution_count": 30,
     "metadata": {},
     "output_type": "execute_result"
    }
   ],
   "source": [
    "train.head()"
   ]
  },
  {
   "cell_type": "code",
   "execution_count": 31,
   "metadata": {},
   "outputs": [
    {
     "data": {
      "text/html": [
       "<div>\n",
       "<style scoped>\n",
       "    .dataframe tbody tr th:only-of-type {\n",
       "        vertical-align: middle;\n",
       "    }\n",
       "\n",
       "    .dataframe tbody tr th {\n",
       "        vertical-align: top;\n",
       "    }\n",
       "\n",
       "    .dataframe thead th {\n",
       "        text-align: right;\n",
       "    }\n",
       "</style>\n",
       "<table border=\"1\" class=\"dataframe\">\n",
       "  <thead>\n",
       "    <tr style=\"text-align: right;\">\n",
       "      <th></th>\n",
       "      <th>profile pic</th>\n",
       "      <th>nums/length username</th>\n",
       "      <th>fullname words</th>\n",
       "      <th>nums/length fullname</th>\n",
       "      <th>name==username</th>\n",
       "      <th>description length</th>\n",
       "      <th>external URL</th>\n",
       "      <th>private</th>\n",
       "      <th>#posts</th>\n",
       "      <th>#followers</th>\n",
       "      <th>#follows</th>\n",
       "      <th>fake</th>\n",
       "    </tr>\n",
       "  </thead>\n",
       "  <tbody>\n",
       "    <tr>\n",
       "      <th>count</th>\n",
       "      <td>576.000000</td>\n",
       "      <td>576.000000</td>\n",
       "      <td>576.000000</td>\n",
       "      <td>576.000000</td>\n",
       "      <td>576.000000</td>\n",
       "      <td>576.000000</td>\n",
       "      <td>576.000000</td>\n",
       "      <td>576.000000</td>\n",
       "      <td>576.000000</td>\n",
       "      <td>5.760000e+02</td>\n",
       "      <td>576.000000</td>\n",
       "      <td>576.000000</td>\n",
       "    </tr>\n",
       "    <tr>\n",
       "      <th>mean</th>\n",
       "      <td>0.701389</td>\n",
       "      <td>0.163837</td>\n",
       "      <td>1.460069</td>\n",
       "      <td>0.036094</td>\n",
       "      <td>0.034722</td>\n",
       "      <td>22.623264</td>\n",
       "      <td>0.116319</td>\n",
       "      <td>0.381944</td>\n",
       "      <td>107.489583</td>\n",
       "      <td>8.530724e+04</td>\n",
       "      <td>508.381944</td>\n",
       "      <td>0.500000</td>\n",
       "    </tr>\n",
       "    <tr>\n",
       "      <th>std</th>\n",
       "      <td>0.458047</td>\n",
       "      <td>0.214096</td>\n",
       "      <td>1.052601</td>\n",
       "      <td>0.125121</td>\n",
       "      <td>0.183234</td>\n",
       "      <td>37.702987</td>\n",
       "      <td>0.320886</td>\n",
       "      <td>0.486285</td>\n",
       "      <td>402.034431</td>\n",
       "      <td>9.101485e+05</td>\n",
       "      <td>917.981239</td>\n",
       "      <td>0.500435</td>\n",
       "    </tr>\n",
       "    <tr>\n",
       "      <th>min</th>\n",
       "      <td>0.000000</td>\n",
       "      <td>0.000000</td>\n",
       "      <td>0.000000</td>\n",
       "      <td>0.000000</td>\n",
       "      <td>0.000000</td>\n",
       "      <td>0.000000</td>\n",
       "      <td>0.000000</td>\n",
       "      <td>0.000000</td>\n",
       "      <td>0.000000</td>\n",
       "      <td>0.000000e+00</td>\n",
       "      <td>0.000000</td>\n",
       "      <td>0.000000</td>\n",
       "    </tr>\n",
       "    <tr>\n",
       "      <th>25%</th>\n",
       "      <td>0.000000</td>\n",
       "      <td>0.000000</td>\n",
       "      <td>1.000000</td>\n",
       "      <td>0.000000</td>\n",
       "      <td>0.000000</td>\n",
       "      <td>0.000000</td>\n",
       "      <td>0.000000</td>\n",
       "      <td>0.000000</td>\n",
       "      <td>0.000000</td>\n",
       "      <td>3.900000e+01</td>\n",
       "      <td>57.500000</td>\n",
       "      <td>0.000000</td>\n",
       "    </tr>\n",
       "    <tr>\n",
       "      <th>50%</th>\n",
       "      <td>1.000000</td>\n",
       "      <td>0.000000</td>\n",
       "      <td>1.000000</td>\n",
       "      <td>0.000000</td>\n",
       "      <td>0.000000</td>\n",
       "      <td>0.000000</td>\n",
       "      <td>0.000000</td>\n",
       "      <td>0.000000</td>\n",
       "      <td>9.000000</td>\n",
       "      <td>1.505000e+02</td>\n",
       "      <td>229.500000</td>\n",
       "      <td>0.500000</td>\n",
       "    </tr>\n",
       "    <tr>\n",
       "      <th>75%</th>\n",
       "      <td>1.000000</td>\n",
       "      <td>0.310000</td>\n",
       "      <td>2.000000</td>\n",
       "      <td>0.000000</td>\n",
       "      <td>0.000000</td>\n",
       "      <td>34.000000</td>\n",
       "      <td>0.000000</td>\n",
       "      <td>1.000000</td>\n",
       "      <td>81.500000</td>\n",
       "      <td>7.160000e+02</td>\n",
       "      <td>589.500000</td>\n",
       "      <td>1.000000</td>\n",
       "    </tr>\n",
       "    <tr>\n",
       "      <th>max</th>\n",
       "      <td>1.000000</td>\n",
       "      <td>0.920000</td>\n",
       "      <td>12.000000</td>\n",
       "      <td>1.000000</td>\n",
       "      <td>1.000000</td>\n",
       "      <td>150.000000</td>\n",
       "      <td>1.000000</td>\n",
       "      <td>1.000000</td>\n",
       "      <td>7389.000000</td>\n",
       "      <td>1.533854e+07</td>\n",
       "      <td>7500.000000</td>\n",
       "      <td>1.000000</td>\n",
       "    </tr>\n",
       "  </tbody>\n",
       "</table>\n",
       "</div>"
      ],
      "text/plain": [
       "       profile pic  nums/length username  fullname words  \\\n",
       "count   576.000000            576.000000      576.000000   \n",
       "mean      0.701389              0.163837        1.460069   \n",
       "std       0.458047              0.214096        1.052601   \n",
       "min       0.000000              0.000000        0.000000   \n",
       "25%       0.000000              0.000000        1.000000   \n",
       "50%       1.000000              0.000000        1.000000   \n",
       "75%       1.000000              0.310000        2.000000   \n",
       "max       1.000000              0.920000       12.000000   \n",
       "\n",
       "       nums/length fullname  name==username  description length  external URL  \\\n",
       "count            576.000000      576.000000          576.000000    576.000000   \n",
       "mean               0.036094        0.034722           22.623264      0.116319   \n",
       "std                0.125121        0.183234           37.702987      0.320886   \n",
       "min                0.000000        0.000000            0.000000      0.000000   \n",
       "25%                0.000000        0.000000            0.000000      0.000000   \n",
       "50%                0.000000        0.000000            0.000000      0.000000   \n",
       "75%                0.000000        0.000000           34.000000      0.000000   \n",
       "max                1.000000        1.000000          150.000000      1.000000   \n",
       "\n",
       "          private       #posts    #followers     #follows        fake  \n",
       "count  576.000000   576.000000  5.760000e+02   576.000000  576.000000  \n",
       "mean     0.381944   107.489583  8.530724e+04   508.381944    0.500000  \n",
       "std      0.486285   402.034431  9.101485e+05   917.981239    0.500435  \n",
       "min      0.000000     0.000000  0.000000e+00     0.000000    0.000000  \n",
       "25%      0.000000     0.000000  3.900000e+01    57.500000    0.000000  \n",
       "50%      0.000000     9.000000  1.505000e+02   229.500000    0.500000  \n",
       "75%      1.000000    81.500000  7.160000e+02   589.500000    1.000000  \n",
       "max      1.000000  7389.000000  1.533854e+07  7500.000000    1.000000  "
      ]
     },
     "execution_count": 31,
     "metadata": {},
     "output_type": "execute_result"
    }
   ],
   "source": [
    "train.describe()"
   ]
  },
  {
   "cell_type": "code",
   "execution_count": 32,
   "metadata": {},
   "outputs": [
    {
     "name": "stdout",
     "output_type": "stream",
     "text": [
      "<class 'pandas.core.frame.DataFrame'>\n",
      "RangeIndex: 576 entries, 0 to 575\n",
      "Data columns (total 12 columns):\n",
      " #   Column                Non-Null Count  Dtype  \n",
      "---  ------                --------------  -----  \n",
      " 0   profile pic           576 non-null    int64  \n",
      " 1   nums/length username  576 non-null    float64\n",
      " 2   fullname words        576 non-null    int64  \n",
      " 3   nums/length fullname  576 non-null    float64\n",
      " 4   name==username        576 non-null    int64  \n",
      " 5   description length    576 non-null    int64  \n",
      " 6   external URL          576 non-null    int64  \n",
      " 7   private               576 non-null    int64  \n",
      " 8   #posts                576 non-null    int64  \n",
      " 9   #followers            576 non-null    int64  \n",
      " 10  #follows              576 non-null    int64  \n",
      " 11  fake                  576 non-null    int64  \n",
      "dtypes: float64(2), int64(10)\n",
      "memory usage: 54.1 KB\n"
     ]
    }
   ],
   "source": [
    "train.info()"
   ]
  },
  {
   "cell_type": "code",
   "execution_count": 33,
   "metadata": {},
   "outputs": [
    {
     "data": {
      "text/plain": [
       "(576, 12)"
      ]
     },
     "execution_count": 33,
     "metadata": {},
     "output_type": "execute_result"
    }
   ],
   "source": [
    "train.shape"
   ]
  },
  {
   "cell_type": "code",
   "execution_count": 34,
   "metadata": {},
   "outputs": [
    {
     "data": {
      "text/html": [
       "<div>\n",
       "<style scoped>\n",
       "    .dataframe tbody tr th:only-of-type {\n",
       "        vertical-align: middle;\n",
       "    }\n",
       "\n",
       "    .dataframe tbody tr th {\n",
       "        vertical-align: top;\n",
       "    }\n",
       "\n",
       "    .dataframe thead th {\n",
       "        text-align: right;\n",
       "    }\n",
       "</style>\n",
       "<table border=\"1\" class=\"dataframe\">\n",
       "  <thead>\n",
       "    <tr style=\"text-align: right;\">\n",
       "      <th></th>\n",
       "      <th>profile pic</th>\n",
       "      <th>nums/length username</th>\n",
       "      <th>fullname words</th>\n",
       "      <th>nums/length fullname</th>\n",
       "      <th>name==username</th>\n",
       "      <th>description length</th>\n",
       "      <th>external URL</th>\n",
       "      <th>private</th>\n",
       "      <th>#posts</th>\n",
       "      <th>#followers</th>\n",
       "      <th>#follows</th>\n",
       "      <th>fake</th>\n",
       "    </tr>\n",
       "  </thead>\n",
       "  <tbody>\n",
       "    <tr>\n",
       "      <th>0</th>\n",
       "      <td>1</td>\n",
       "      <td>0.33</td>\n",
       "      <td>1</td>\n",
       "      <td>0.33</td>\n",
       "      <td>1</td>\n",
       "      <td>30</td>\n",
       "      <td>0</td>\n",
       "      <td>1</td>\n",
       "      <td>35</td>\n",
       "      <td>488</td>\n",
       "      <td>604</td>\n",
       "      <td>0</td>\n",
       "    </tr>\n",
       "    <tr>\n",
       "      <th>1</th>\n",
       "      <td>1</td>\n",
       "      <td>0.00</td>\n",
       "      <td>5</td>\n",
       "      <td>0.00</td>\n",
       "      <td>0</td>\n",
       "      <td>64</td>\n",
       "      <td>0</td>\n",
       "      <td>1</td>\n",
       "      <td>3</td>\n",
       "      <td>35</td>\n",
       "      <td>6</td>\n",
       "      <td>0</td>\n",
       "    </tr>\n",
       "    <tr>\n",
       "      <th>2</th>\n",
       "      <td>1</td>\n",
       "      <td>0.00</td>\n",
       "      <td>2</td>\n",
       "      <td>0.00</td>\n",
       "      <td>0</td>\n",
       "      <td>82</td>\n",
       "      <td>0</td>\n",
       "      <td>1</td>\n",
       "      <td>319</td>\n",
       "      <td>328</td>\n",
       "      <td>668</td>\n",
       "      <td>0</td>\n",
       "    </tr>\n",
       "    <tr>\n",
       "      <th>3</th>\n",
       "      <td>1</td>\n",
       "      <td>0.00</td>\n",
       "      <td>1</td>\n",
       "      <td>0.00</td>\n",
       "      <td>0</td>\n",
       "      <td>143</td>\n",
       "      <td>0</td>\n",
       "      <td>1</td>\n",
       "      <td>273</td>\n",
       "      <td>14890</td>\n",
       "      <td>7369</td>\n",
       "      <td>0</td>\n",
       "    </tr>\n",
       "    <tr>\n",
       "      <th>4</th>\n",
       "      <td>1</td>\n",
       "      <td>0.50</td>\n",
       "      <td>1</td>\n",
       "      <td>0.00</td>\n",
       "      <td>0</td>\n",
       "      <td>76</td>\n",
       "      <td>0</td>\n",
       "      <td>1</td>\n",
       "      <td>6</td>\n",
       "      <td>225</td>\n",
       "      <td>356</td>\n",
       "      <td>0</td>\n",
       "    </tr>\n",
       "  </tbody>\n",
       "</table>\n",
       "</div>"
      ],
      "text/plain": [
       "   profile pic  nums/length username  fullname words  nums/length fullname  \\\n",
       "0            1                  0.33               1                  0.33   \n",
       "1            1                  0.00               5                  0.00   \n",
       "2            1                  0.00               2                  0.00   \n",
       "3            1                  0.00               1                  0.00   \n",
       "4            1                  0.50               1                  0.00   \n",
       "\n",
       "   name==username  description length  external URL  private  #posts  \\\n",
       "0               1                  30             0        1      35   \n",
       "1               0                  64             0        1       3   \n",
       "2               0                  82             0        1     319   \n",
       "3               0                 143             0        1     273   \n",
       "4               0                  76             0        1       6   \n",
       "\n",
       "   #followers  #follows  fake  \n",
       "0         488       604     0  \n",
       "1          35         6     0  \n",
       "2         328       668     0  \n",
       "3       14890      7369     0  \n",
       "4         225       356     0  "
      ]
     },
     "execution_count": 34,
     "metadata": {},
     "output_type": "execute_result"
    }
   ],
   "source": [
    "test.head()"
   ]
  },
  {
   "cell_type": "code",
   "execution_count": 35,
   "metadata": {},
   "outputs": [
    {
     "data": {
      "text/html": [
       "<div>\n",
       "<style scoped>\n",
       "    .dataframe tbody tr th:only-of-type {\n",
       "        vertical-align: middle;\n",
       "    }\n",
       "\n",
       "    .dataframe tbody tr th {\n",
       "        vertical-align: top;\n",
       "    }\n",
       "\n",
       "    .dataframe thead th {\n",
       "        text-align: right;\n",
       "    }\n",
       "</style>\n",
       "<table border=\"1\" class=\"dataframe\">\n",
       "  <thead>\n",
       "    <tr style=\"text-align: right;\">\n",
       "      <th></th>\n",
       "      <th>profile pic</th>\n",
       "      <th>nums/length username</th>\n",
       "      <th>fullname words</th>\n",
       "      <th>nums/length fullname</th>\n",
       "      <th>name==username</th>\n",
       "      <th>description length</th>\n",
       "      <th>external URL</th>\n",
       "      <th>private</th>\n",
       "      <th>#posts</th>\n",
       "      <th>#followers</th>\n",
       "      <th>#follows</th>\n",
       "      <th>fake</th>\n",
       "    </tr>\n",
       "  </thead>\n",
       "  <tbody>\n",
       "    <tr>\n",
       "      <th>count</th>\n",
       "      <td>120.000000</td>\n",
       "      <td>120.000000</td>\n",
       "      <td>120.000000</td>\n",
       "      <td>120.000000</td>\n",
       "      <td>120.000000</td>\n",
       "      <td>120.000000</td>\n",
       "      <td>120.000000</td>\n",
       "      <td>120.000000</td>\n",
       "      <td>120.000000</td>\n",
       "      <td>1.200000e+02</td>\n",
       "      <td>120.000000</td>\n",
       "      <td>120.000000</td>\n",
       "    </tr>\n",
       "    <tr>\n",
       "      <th>mean</th>\n",
       "      <td>0.758333</td>\n",
       "      <td>0.179917</td>\n",
       "      <td>1.550000</td>\n",
       "      <td>0.071333</td>\n",
       "      <td>0.041667</td>\n",
       "      <td>27.200000</td>\n",
       "      <td>0.100000</td>\n",
       "      <td>0.308333</td>\n",
       "      <td>82.866667</td>\n",
       "      <td>4.959472e+04</td>\n",
       "      <td>779.266667</td>\n",
       "      <td>0.500000</td>\n",
       "    </tr>\n",
       "    <tr>\n",
       "      <th>std</th>\n",
       "      <td>0.429888</td>\n",
       "      <td>0.241492</td>\n",
       "      <td>1.187116</td>\n",
       "      <td>0.209429</td>\n",
       "      <td>0.200664</td>\n",
       "      <td>42.588632</td>\n",
       "      <td>0.301258</td>\n",
       "      <td>0.463741</td>\n",
       "      <td>230.468136</td>\n",
       "      <td>3.816126e+05</td>\n",
       "      <td>1409.383558</td>\n",
       "      <td>0.502096</td>\n",
       "    </tr>\n",
       "    <tr>\n",
       "      <th>min</th>\n",
       "      <td>0.000000</td>\n",
       "      <td>0.000000</td>\n",
       "      <td>0.000000</td>\n",
       "      <td>0.000000</td>\n",
       "      <td>0.000000</td>\n",
       "      <td>0.000000</td>\n",
       "      <td>0.000000</td>\n",
       "      <td>0.000000</td>\n",
       "      <td>0.000000</td>\n",
       "      <td>0.000000e+00</td>\n",
       "      <td>1.000000</td>\n",
       "      <td>0.000000</td>\n",
       "    </tr>\n",
       "    <tr>\n",
       "      <th>25%</th>\n",
       "      <td>1.000000</td>\n",
       "      <td>0.000000</td>\n",
       "      <td>1.000000</td>\n",
       "      <td>0.000000</td>\n",
       "      <td>0.000000</td>\n",
       "      <td>0.000000</td>\n",
       "      <td>0.000000</td>\n",
       "      <td>0.000000</td>\n",
       "      <td>1.000000</td>\n",
       "      <td>6.725000e+01</td>\n",
       "      <td>119.250000</td>\n",
       "      <td>0.000000</td>\n",
       "    </tr>\n",
       "    <tr>\n",
       "      <th>50%</th>\n",
       "      <td>1.000000</td>\n",
       "      <td>0.000000</td>\n",
       "      <td>1.000000</td>\n",
       "      <td>0.000000</td>\n",
       "      <td>0.000000</td>\n",
       "      <td>0.000000</td>\n",
       "      <td>0.000000</td>\n",
       "      <td>0.000000</td>\n",
       "      <td>8.000000</td>\n",
       "      <td>2.165000e+02</td>\n",
       "      <td>354.500000</td>\n",
       "      <td>0.500000</td>\n",
       "    </tr>\n",
       "    <tr>\n",
       "      <th>75%</th>\n",
       "      <td>1.000000</td>\n",
       "      <td>0.330000</td>\n",
       "      <td>2.000000</td>\n",
       "      <td>0.000000</td>\n",
       "      <td>0.000000</td>\n",
       "      <td>45.250000</td>\n",
       "      <td>0.000000</td>\n",
       "      <td>1.000000</td>\n",
       "      <td>58.250000</td>\n",
       "      <td>5.932500e+02</td>\n",
       "      <td>668.250000</td>\n",
       "      <td>1.000000</td>\n",
       "    </tr>\n",
       "    <tr>\n",
       "      <th>max</th>\n",
       "      <td>1.000000</td>\n",
       "      <td>0.890000</td>\n",
       "      <td>9.000000</td>\n",
       "      <td>1.000000</td>\n",
       "      <td>1.000000</td>\n",
       "      <td>149.000000</td>\n",
       "      <td>1.000000</td>\n",
       "      <td>1.000000</td>\n",
       "      <td>1879.000000</td>\n",
       "      <td>4.021842e+06</td>\n",
       "      <td>7453.000000</td>\n",
       "      <td>1.000000</td>\n",
       "    </tr>\n",
       "  </tbody>\n",
       "</table>\n",
       "</div>"
      ],
      "text/plain": [
       "       profile pic  nums/length username  fullname words  \\\n",
       "count   120.000000            120.000000      120.000000   \n",
       "mean      0.758333              0.179917        1.550000   \n",
       "std       0.429888              0.241492        1.187116   \n",
       "min       0.000000              0.000000        0.000000   \n",
       "25%       1.000000              0.000000        1.000000   \n",
       "50%       1.000000              0.000000        1.000000   \n",
       "75%       1.000000              0.330000        2.000000   \n",
       "max       1.000000              0.890000        9.000000   \n",
       "\n",
       "       nums/length fullname  name==username  description length  external URL  \\\n",
       "count            120.000000      120.000000          120.000000    120.000000   \n",
       "mean               0.071333        0.041667           27.200000      0.100000   \n",
       "std                0.209429        0.200664           42.588632      0.301258   \n",
       "min                0.000000        0.000000            0.000000      0.000000   \n",
       "25%                0.000000        0.000000            0.000000      0.000000   \n",
       "50%                0.000000        0.000000            0.000000      0.000000   \n",
       "75%                0.000000        0.000000           45.250000      0.000000   \n",
       "max                1.000000        1.000000          149.000000      1.000000   \n",
       "\n",
       "          private       #posts    #followers     #follows        fake  \n",
       "count  120.000000   120.000000  1.200000e+02   120.000000  120.000000  \n",
       "mean     0.308333    82.866667  4.959472e+04   779.266667    0.500000  \n",
       "std      0.463741   230.468136  3.816126e+05  1409.383558    0.502096  \n",
       "min      0.000000     0.000000  0.000000e+00     1.000000    0.000000  \n",
       "25%      0.000000     1.000000  6.725000e+01   119.250000    0.000000  \n",
       "50%      0.000000     8.000000  2.165000e+02   354.500000    0.500000  \n",
       "75%      1.000000    58.250000  5.932500e+02   668.250000    1.000000  \n",
       "max      1.000000  1879.000000  4.021842e+06  7453.000000    1.000000  "
      ]
     },
     "execution_count": 35,
     "metadata": {},
     "output_type": "execute_result"
    }
   ],
   "source": [
    "test.describe()"
   ]
  },
  {
   "cell_type": "code",
   "execution_count": 36,
   "metadata": {},
   "outputs": [
    {
     "name": "stdout",
     "output_type": "stream",
     "text": [
      "<class 'pandas.core.frame.DataFrame'>\n",
      "RangeIndex: 120 entries, 0 to 119\n",
      "Data columns (total 12 columns):\n",
      " #   Column                Non-Null Count  Dtype  \n",
      "---  ------                --------------  -----  \n",
      " 0   profile pic           120 non-null    int64  \n",
      " 1   nums/length username  120 non-null    float64\n",
      " 2   fullname words        120 non-null    int64  \n",
      " 3   nums/length fullname  120 non-null    float64\n",
      " 4   name==username        120 non-null    int64  \n",
      " 5   description length    120 non-null    int64  \n",
      " 6   external URL          120 non-null    int64  \n",
      " 7   private               120 non-null    int64  \n",
      " 8   #posts                120 non-null    int64  \n",
      " 9   #followers            120 non-null    int64  \n",
      " 10  #follows              120 non-null    int64  \n",
      " 11  fake                  120 non-null    int64  \n",
      "dtypes: float64(2), int64(10)\n",
      "memory usage: 11.4 KB\n"
     ]
    }
   ],
   "source": [
    "test.info()"
   ]
  },
  {
   "cell_type": "code",
   "execution_count": 37,
   "metadata": {},
   "outputs": [
    {
     "data": {
      "text/plain": [
       "(120, 12)"
      ]
     },
     "execution_count": 37,
     "metadata": {},
     "output_type": "execute_result"
    }
   ],
   "source": [
    "test.shape"
   ]
  },
  {
   "cell_type": "markdown",
   "metadata": {},
   "source": [
    "Check for NULL values"
   ]
  },
  {
   "cell_type": "code",
   "execution_count": 38,
   "metadata": {},
   "outputs": [
    {
     "name": "stdout",
     "output_type": "stream",
     "text": [
      "0\n",
      "0\n"
     ]
    }
   ],
   "source": [
    "print(train.isna().values.any().sum())\n",
    "print(test.isna().values.any().sum())"
   ]
  },
  {
   "cell_type": "markdown",
   "metadata": {},
   "source": [
    "Create a correlation matrix for the features in the training data to check for significantly relevant features"
   ]
  },
  {
   "cell_type": "code",
   "execution_count": 39,
   "metadata": {},
   "outputs": [
    {
     "data": {
      "text/plain": [
       "<Axes: >"
      ]
     },
     "execution_count": 39,
     "metadata": {},
     "output_type": "execute_result"
    },
    {
     "data": {
      "image/png": "[encoded data removed]",
      "text/plain": [
       "<Figure size 1500x1000 with 2 Axes>"
      ]
     },
     "metadata": {},
     "output_type": "display_data"
    }
   ],
   "source": [
    "fig, ax = plt.subplots(figsize=(15,10))  \n",
    "corr=train.corr()\n",
    "sns.heatmap(corr, annot=True)"
   ]
  },
  {
   "cell_type": "markdown",
   "metadata": {},
   "source": [
    "Split the training set into data and labels"
   ]
  },
  {
   "cell_type": "code",
   "execution_count": 40,
   "metadata": {},
   "outputs": [
    {
     "data": {
      "text/html": [
       "<div>\n",
       "<style scoped>\n",
       "    .dataframe tbody tr th:only-of-type {\n",
       "        vertical-align: middle;\n",
       "    }\n",
       "\n",
       "    .dataframe tbody tr th {\n",
       "        vertical-align: top;\n",
       "    }\n",
       "\n",
       "    .dataframe thead th {\n",
       "        text-align: right;\n",
       "    }\n",
       "</style>\n",
       "<table border=\"1\" class=\"dataframe\">\n",
       "  <thead>\n",
       "    <tr style=\"text-align: right;\">\n",
       "      <th></th>\n",
       "      <th>profile pic</th>\n",
       "      <th>nums/length username</th>\n",
       "      <th>fullname words</th>\n",
       "      <th>nums/length fullname</th>\n",
       "      <th>name==username</th>\n",
       "      <th>description length</th>\n",
       "      <th>external URL</th>\n",
       "      <th>private</th>\n",
       "      <th>#posts</th>\n",
       "      <th>#followers</th>\n",
       "      <th>#follows</th>\n",
       "    </tr>\n",
       "  </thead>\n",
       "  <tbody>\n",
       "    <tr>\n",
       "      <th>0</th>\n",
       "      <td>1</td>\n",
       "      <td>0.27</td>\n",
       "      <td>0</td>\n",
       "      <td>0.0</td>\n",
       "      <td>0</td>\n",
       "      <td>53</td>\n",
       "      <td>0</td>\n",
       "      <td>0</td>\n",
       "      <td>32</td>\n",
       "      <td>1000</td>\n",
       "      <td>955</td>\n",
       "    </tr>\n",
       "    <tr>\n",
       "      <th>1</th>\n",
       "      <td>1</td>\n",
       "      <td>0.00</td>\n",
       "      <td>2</td>\n",
       "      <td>0.0</td>\n",
       "      <td>0</td>\n",
       "      <td>44</td>\n",
       "      <td>0</td>\n",
       "      <td>0</td>\n",
       "      <td>286</td>\n",
       "      <td>2740</td>\n",
       "      <td>533</td>\n",
       "    </tr>\n",
       "    <tr>\n",
       "      <th>2</th>\n",
       "      <td>1</td>\n",
       "      <td>0.10</td>\n",
       "      <td>2</td>\n",
       "      <td>0.0</td>\n",
       "      <td>0</td>\n",
       "      <td>0</td>\n",
       "      <td>0</td>\n",
       "      <td>1</td>\n",
       "      <td>13</td>\n",
       "      <td>159</td>\n",
       "      <td>98</td>\n",
       "    </tr>\n",
       "    <tr>\n",
       "      <th>3</th>\n",
       "      <td>1</td>\n",
       "      <td>0.00</td>\n",
       "      <td>1</td>\n",
       "      <td>0.0</td>\n",
       "      <td>0</td>\n",
       "      <td>82</td>\n",
       "      <td>0</td>\n",
       "      <td>0</td>\n",
       "      <td>679</td>\n",
       "      <td>414</td>\n",
       "      <td>651</td>\n",
       "    </tr>\n",
       "    <tr>\n",
       "      <th>4</th>\n",
       "      <td>1</td>\n",
       "      <td>0.00</td>\n",
       "      <td>2</td>\n",
       "      <td>0.0</td>\n",
       "      <td>0</td>\n",
       "      <td>0</td>\n",
       "      <td>0</td>\n",
       "      <td>1</td>\n",
       "      <td>6</td>\n",
       "      <td>151</td>\n",
       "      <td>126</td>\n",
       "    </tr>\n",
       "  </tbody>\n",
       "</table>\n",
       "</div>"
      ],
      "text/plain": [
       "   profile pic  nums/length username  fullname words  nums/length fullname  \\\n",
       "0            1                  0.27               0                   0.0   \n",
       "1            1                  0.00               2                   0.0   \n",
       "2            1                  0.10               2                   0.0   \n",
       "3            1                  0.00               1                   0.0   \n",
       "4            1                  0.00               2                   0.0   \n",
       "\n",
       "   name==username  description length  external URL  private  #posts  \\\n",
       "0               0                  53             0        0      32   \n",
       "1               0                  44             0        0     286   \n",
       "2               0                   0             0        1      13   \n",
       "3               0                  82             0        0     679   \n",
       "4               0                   0             0        1       6   \n",
       "\n",
       "   #followers  #follows  \n",
       "0        1000       955  \n",
       "1        2740       533  \n",
       "2         159        98  \n",
       "3         414       651  \n",
       "4         151       126  "
      ]
     },
     "execution_count": 40,
     "metadata": {},
     "output_type": "execute_result"
    }
   ],
   "source": [
    "# Labels\n",
    "train_Y = train.fake\n",
    "train_Y = pd.DataFrame(train_Y)\n",
    "\n",
    "# Data\n",
    "train_X = train.drop(columns='fake')\n",
    "train_X.head()"
   ]
  },
  {
   "cell_type": "markdown",
   "metadata": {},
   "source": [
    "Split the test set into data and labels"
   ]
  },
  {
   "cell_type": "code",
   "execution_count": 41,
   "metadata": {},
   "outputs": [
    {
     "data": {
      "text/html": [
       "<div>\n",
       "<style scoped>\n",
       "    .dataframe tbody tr th:only-of-type {\n",
       "        vertical-align: middle;\n",
       "    }\n",
       "\n",
       "    .dataframe tbody tr th {\n",
       "        vertical-align: top;\n",
       "    }\n",
       "\n",
       "    .dataframe thead th {\n",
       "        text-align: right;\n",
       "    }\n",
       "</style>\n",
       "<table border=\"1\" class=\"dataframe\">\n",
       "  <thead>\n",
       "    <tr style=\"text-align: right;\">\n",
       "      <th></th>\n",
       "      <th>profile pic</th>\n",
       "      <th>nums/length username</th>\n",
       "      <th>fullname words</th>\n",
       "      <th>nums/length fullname</th>\n",
       "      <th>name==username</th>\n",
       "      <th>description length</th>\n",
       "      <th>external URL</th>\n",
       "      <th>private</th>\n",
       "      <th>#posts</th>\n",
       "      <th>#followers</th>\n",
       "      <th>#follows</th>\n",
       "    </tr>\n",
       "  </thead>\n",
       "  <tbody>\n",
       "    <tr>\n",
       "      <th>0</th>\n",
       "      <td>1</td>\n",
       "      <td>0.33</td>\n",
       "      <td>1</td>\n",
       "      <td>0.33</td>\n",
       "      <td>1</td>\n",
       "      <td>30</td>\n",
       "      <td>0</td>\n",
       "      <td>1</td>\n",
       "      <td>35</td>\n",
       "      <td>488</td>\n",
       "      <td>604</td>\n",
       "    </tr>\n",
       "    <tr>\n",
       "      <th>1</th>\n",
       "      <td>1</td>\n",
       "      <td>0.00</td>\n",
       "      <td>5</td>\n",
       "      <td>0.00</td>\n",
       "      <td>0</td>\n",
       "      <td>64</td>\n",
       "      <td>0</td>\n",
       "      <td>1</td>\n",
       "      <td>3</td>\n",
       "      <td>35</td>\n",
       "      <td>6</td>\n",
       "    </tr>\n",
       "    <tr>\n",
       "      <th>2</th>\n",
       "      <td>1</td>\n",
       "      <td>0.00</td>\n",
       "      <td>2</td>\n",
       "      <td>0.00</td>\n",
       "      <td>0</td>\n",
       "      <td>82</td>\n",
       "      <td>0</td>\n",
       "      <td>1</td>\n",
       "      <td>319</td>\n",
       "      <td>328</td>\n",
       "      <td>668</td>\n",
       "    </tr>\n",
       "    <tr>\n",
       "      <th>3</th>\n",
       "      <td>1</td>\n",
       "      <td>0.00</td>\n",
       "      <td>1</td>\n",
       "      <td>0.00</td>\n",
       "      <td>0</td>\n",
       "      <td>143</td>\n",
       "      <td>0</td>\n",
       "      <td>1</td>\n",
       "      <td>273</td>\n",
       "      <td>14890</td>\n",
       "      <td>7369</td>\n",
       "    </tr>\n",
       "    <tr>\n",
       "      <th>4</th>\n",
       "      <td>1</td>\n",
       "      <td>0.50</td>\n",
       "      <td>1</td>\n",
       "      <td>0.00</td>\n",
       "      <td>0</td>\n",
       "      <td>76</td>\n",
       "      <td>0</td>\n",
       "      <td>1</td>\n",
       "      <td>6</td>\n",
       "      <td>225</td>\n",
       "      <td>356</td>\n",
       "    </tr>\n",
       "  </tbody>\n",
       "</table>\n",
       "</div>"
      ],
      "text/plain": [
       "   profile pic  nums/length username  fullname words  nums/length fullname  \\\n",
       "0            1                  0.33               1                  0.33   \n",
       "1            1                  0.00               5                  0.00   \n",
       "2            1                  0.00               2                  0.00   \n",
       "3            1                  0.00               1                  0.00   \n",
       "4            1                  0.50               1                  0.00   \n",
       "\n",
       "   name==username  description length  external URL  private  #posts  \\\n",
       "0               1                  30             0        1      35   \n",
       "1               0                  64             0        1       3   \n",
       "2               0                  82             0        1     319   \n",
       "3               0                 143             0        1     273   \n",
       "4               0                  76             0        1       6   \n",
       "\n",
       "   #followers  #follows  \n",
       "0         488       604  \n",
       "1          35         6  \n",
       "2         328       668  \n",
       "3       14890      7369  \n",
       "4         225       356  "
      ]
     },
     "execution_count": 41,
     "metadata": {},
     "output_type": "execute_result"
    }
   ],
   "source": [
    "# Labels\n",
    "test_Y = test.fake\n",
    "test_Y = pd.DataFrame(test_Y)\n",
    "\n",
    "# Data\n",
    "test_X = test.drop(columns='fake')\n",
    "test_X.head()"
   ]
  },
  {
   "cell_type": "markdown",
   "metadata": {},
   "source": [
    "## Part 2: Comparing Classification Models"
   ]
  },
  {
   "cell_type": "markdown",
   "metadata": {},
   "source": [
    "**Baseline Classifier**\n",
    "<br>Classify everything as the majority class."
   ]
  },
  {
   "cell_type": "code",
   "execution_count": 42,
   "metadata": {},
   "outputs": [
    {
     "name": "stdout",
     "output_type": "stream",
     "text": [
      "Baseline accuracy: 0.5\n"
     ]
    }
   ],
   "source": [
    "# Baseline classifier\n",
    "fakes = len([i for i in train.fake if i==1])\n",
    "auth = len([i for i in train.fake if i==0])\n",
    "fakes, auth\n",
    "\n",
    "# classify everything as fake\n",
    "pred = [1 for i in range(len(test_X))]\n",
    "pred = np.array(pred)\n",
    "print(\"Baseline accuracy: \" + str(accuracy_score(pred, test_Y)))"
   ]
  },
  {
   "cell_type": "markdown",
   "metadata": {},
   "source": [
    "**Statistical Method**\n",
    "<br>Classify all users with a following to follower ratio above a certain threshold as 'fake'.\n",
    "<br> i.e. a user with 10 follower and 200 followings will be classified as fake if the threshold r=20"
   ]
  },
  {
   "cell_type": "code",
   "execution_count": 43,
   "metadata": {},
   "outputs": [
    {
     "name": "stdout",
     "output_type": "stream",
     "text": [
      "Maximum Accuracy for the statistical method: 0.7\n"
     ]
    },
    {
     "data": {
      "image/png": "[encoded data removed]",
      "text/plain": [
       "<Figure size 2000x1000 with 1 Axes>"
      ]
     },
     "metadata": {},
     "output_type": "display_data"
    }
   ],
   "source": [
    "# Statistical method\n",
    "def stat_predict(test_X, r):\n",
    "    pred = []\n",
    "    for row in range(len(test_X)):   \n",
    "        followers = test_X.loc[row]['#followers']\n",
    "        followings = test_X.loc[row]['#follows']\n",
    "        if followers == 0:\n",
    "            followers = 1\n",
    "        if followings == 0:\n",
    "            followings == 1\n",
    "\n",
    "        ratio = followings/followers\n",
    "\n",
    "        if ratio >= r:\n",
    "            pred.append(1)\n",
    "        else:\n",
    "            pred.append(0)\n",
    "    \n",
    "    return np.array(pred)\n",
    "accuracies = []\n",
    "for i in [x / 10.0 for x in range(5, 255, 5)]:\n",
    "    prediction = stat_predict(test_X, i)\n",
    "    accuracies.append(accuracy_score(prediction, test_Y))\n",
    "\n",
    "f, ax = plt.subplots(figsize=(20,10))\n",
    "plt.plot([x / 10.0 for x in range(5, 255, 5)], accuracies)\n",
    "plt.plot([2.5 for i in range(len(accuracies))], accuracies, color='red')\n",
    "plt.title(\"Accuracy for different thresholds\", size=30)\n",
    "plt.xlabel('Ratio', fontsize=20)\n",
    "plt.ylabel('Accuracy', fontsize=20)\n",
    "print(\"Maximum Accuracy for the statistical method: \" + str(max(accuracies)))"
   ]
  },
  {
   "cell_type": "markdown",
   "metadata": {},
   "source": [
    "**Logistic Regression**"
   ]
  },
  {
   "cell_type": "code",
   "execution_count": 44,
   "metadata": {},
   "outputs": [
    {
     "name": "stderr",
     "output_type": "stream",
     "text": [
      "/home/faishal/Code Projects/AI-jaxx/venv/lib/python3.12/site-packages/sklearn/utils/validation.py:1408: DataConversionWarning: A column-vector y was passed when a 1d array was expected. Please change the shape of y to (n_samples, ), for example using ravel().\n",
      "  y = column_or_1d(y, warn=True)\n",
      "/home/faishal/Code Projects/AI-jaxx/venv/lib/python3.12/site-packages/sklearn/linear_model/_logistic.py:465: ConvergenceWarning: lbfgs failed to converge (status=1):\n",
      "STOP: TOTAL NO. OF ITERATIONS REACHED LIMIT.\n",
      "\n",
      "Increase the number of iterations (max_iter) or scale the data as shown in:\n",
      "    https://scikit-learn.org/stable/modules/preprocessing.html\n",
      "Please also refer to the documentation for alternative solver options:\n",
      "    https://scikit-learn.org/stable/modules/linear_model.html#logistic-regression\n",
      "  n_iter_i = _check_optimize_result(\n"
     ]
    }
   ],
   "source": [
    "lm = LogisticRegression()\n",
    "\n",
    "# Train the model\n",
    "model1 = lm.fit(train_X, train_Y)\n",
    "\n",
    "# Make a prediction\n",
    "lm_predict = model1.predict(test_X)"
   ]
  },
  {
   "cell_type": "code",
   "execution_count": 45,
   "metadata": {},
   "outputs": [
    {
     "name": "stdout",
     "output_type": "stream",
     "text": [
      "Logistic Regression accuracy: 0.9083333333333333\n"
     ]
    }
   ],
   "source": [
    "# Compute the accuracy of the model\n",
    "acc = accuracy_score(lm_predict, test_Y)\n",
    "print(\"Logistic Regression accuracy: \" + str(acc))"
   ]
  },
  {
   "cell_type": "markdown",
   "metadata": {},
   "source": [
    "**KNN Classifier**"
   ]
  },
  {
   "cell_type": "code",
   "execution_count": 46,
   "metadata": {},
   "outputs": [
    {
     "name": "stderr",
     "output_type": "stream",
     "text": [
      "/home/faishal/Code Projects/AI-jaxx/venv/lib/python3.12/site-packages/sklearn/neighbors/_classification.py:239: DataConversionWarning: A column-vector y was passed when a 1d array was expected. Please change the shape of y to (n_samples,), for example using ravel().\n",
      "  return self._fit(X, y)\n",
      "/home/faishal/Code Projects/AI-jaxx/venv/lib/python3.12/site-packages/sklearn/neighbors/_classification.py:239: DataConversionWarning: A column-vector y was passed when a 1d array was expected. Please change the shape of y to (n_samples,), for example using ravel().\n",
      "  return self._fit(X, y)\n",
      "/home/faishal/Code Projects/AI-jaxx/venv/lib/python3.12/site-packages/sklearn/neighbors/_classification.py:239: DataConversionWarning: A column-vector y was passed when a 1d array was expected. Please change the shape of y to (n_samples,), for example using ravel().\n",
      "  return self._fit(X, y)\n",
      "/home/faishal/Code Projects/AI-jaxx/venv/lib/python3.12/site-packages/sklearn/neighbors/_classification.py:239: DataConversionWarning: A column-vector y was passed when a 1d array was expected. Please change the shape of y to (n_samples,), for example using ravel().\n",
      "  return self._fit(X, y)\n",
      "/home/faishal/Code Projects/AI-jaxx/venv/lib/python3.12/site-packages/sklearn/neighbors/_classification.py:239: DataConversionWarning: A column-vector y was passed when a 1d array was expected. Please change the shape of y to (n_samples,), for example using ravel().\n",
      "  return self._fit(X, y)\n",
      "/home/faishal/Code Projects/AI-jaxx/venv/lib/python3.12/site-packages/sklearn/neighbors/_classification.py:239: DataConversionWarning: A column-vector y was passed when a 1d array was expected. Please change the shape of y to (n_samples,), for example using ravel().\n",
      "  return self._fit(X, y)\n",
      "/home/faishal/Code Projects/AI-jaxx/venv/lib/python3.12/site-packages/sklearn/neighbors/_classification.py:239: DataConversionWarning: A column-vector y was passed when a 1d array was expected. Please change the shape of y to (n_samples,), for example using ravel().\n",
      "  return self._fit(X, y)\n",
      "/home/faishal/Code Projects/AI-jaxx/venv/lib/python3.12/site-packages/sklearn/neighbors/_classification.py:239: DataConversionWarning: A column-vector y was passed when a 1d array was expected. Please change the shape of y to (n_samples,), for example using ravel().\n",
      "  return self._fit(X, y)\n",
      "/home/faishal/Code Projects/AI-jaxx/venv/lib/python3.12/site-packages/sklearn/neighbors/_classification.py:239: DataConversionWarning: A column-vector y was passed when a 1d array was expected. Please change the shape of y to (n_samples,), for example using ravel().\n",
      "  return self._fit(X, y)\n"
     ]
    },
    {
     "name": "stdout",
     "output_type": "stream",
     "text": [
      "The highest accuracy obtained using KNN is 0.8666666666666667 achieved by a value of n=7\n"
     ]
    },
    {
     "data": {
      "image/png": "[encoded data removed]",
      "text/plain": [
       "<Figure size 2000x1000 with 1 Axes>"
      ]
     },
     "metadata": {},
     "output_type": "display_data"
    }
   ],
   "source": [
    "accuracies = []\n",
    "\n",
    "# Compare the accuracies of using the KNN classifier with different number of neighbors\n",
    "for i in range(1,10):\n",
    "    knn = KNeighborsClassifier(n_neighbors=i)\n",
    "    model_2 = knn.fit(train_X,train_Y)\n",
    "    knn_predict = model_2.predict(test_X)\n",
    "    accuracy = accuracy_score(knn_predict,test_Y)\n",
    "    accuracies.append(accuracy)\n",
    "\n",
    "max_acc = (0, 0)\n",
    "for i in range(1, 10):\n",
    "    if accuracies[i-1] > max_acc[1]:\n",
    "        max_acc = (i, accuracies[i-1])\n",
    "\n",
    "max_acc\n",
    "\n",
    "f, ax = plt.subplots(figsize=(20,10))\n",
    "plt.plot([i for i in range(1,10)], accuracies)\n",
    "plt.plot([7 for i in range(len(accuracies))], accuracies, color='red')\n",
    "plt.title(\"Accuracy for different n-neighbors\", size=30)\n",
    "plt.xlabel('Number of neighbors', fontsize=20)\n",
    "plt.ylabel('Accuracy', fontsize=20)\n",
    "\n",
    "print(\"The highest accuracy obtained using KNN is \" + str(max_acc[1]) + \" achieved by a value of n=\" + str(max_acc[0]))"
   ]
  },
  {
   "cell_type": "markdown",
   "metadata": {},
   "source": [
    "**Decision Tree Classifier**"
   ]
  },
  {
   "cell_type": "code",
   "execution_count": 47,
   "metadata": {},
   "outputs": [],
   "source": [
    "DT = DecisionTreeClassifier()\n",
    "\n",
    "# Train the model\n",
    "model3 = DT.fit(train_X, train_Y)\n",
    "\n",
    "# Make a prediction\n",
    "DT_predict = model3.predict(test_X)"
   ]
  },
  {
   "cell_type": "code",
   "execution_count": 48,
   "metadata": {},
   "outputs": [
    {
     "name": "stdout",
     "output_type": "stream",
     "text": [
      "Decision Tree accuracy: 0.9166666666666666\n"
     ]
    }
   ],
   "source": [
    "# Compute the accuracy of the model\n",
    "acc = accuracy_score(DT_predict, test_Y)\n",
    "print(\"Decision Tree accuracy: \" + str(acc))"
   ]
  },
  {
   "cell_type": "markdown",
   "metadata": {},
   "source": [
    "**Random Forest Classifier**"
   ]
  },
  {
   "cell_type": "code",
   "execution_count": 49,
   "metadata": {},
   "outputs": [
    {
     "name": "stderr",
     "output_type": "stream",
     "text": [
      "/home/faishal/Code Projects/AI-jaxx/venv/lib/python3.12/site-packages/sklearn/base.py:1389: DataConversionWarning: A column-vector y was passed when a 1d array was expected. Please change the shape of y to (n_samples,), for example using ravel().\n",
      "  return fit_method(estimator, *args, **kwargs)\n"
     ]
    }
   ],
   "source": [
    "rfc = RandomForestClassifier()\n",
    "\n",
    "# Train the model\n",
    "model_4 = rfc.fit(train_X, train_Y)\n",
    "\n",
    "# Make a prediction\n",
    "rfc_predict = model_4.predict(test_X)"
   ]
  },
  {
   "cell_type": "code",
   "execution_count": 50,
   "metadata": {},
   "outputs": [
    {
     "name": "stdout",
     "output_type": "stream",
     "text": [
      "Random Forest accuracy: 0.9333333333333333\n"
     ]
    }
   ],
   "source": [
    "# Compute the accuracy of the model\n",
    "acc = accuracy_score(rfc_predict, test_Y)\n",
    "print(\"Random Forest accuracy: \" + str(acc))"
   ]
  },
  {
   "cell_type": "markdown",
   "metadata": {},
   "source": [
    "## Part 3: Obtaining Instagram Data\n",
    "We are going to use the hassle-free unofficial Instagram API. <br> To install: ```$ pip install git+https://git@github.com/ping/instagram_private_api.git@1.6.0```"
   ]
  },
  {
   "cell_type": "markdown",
   "metadata": {},
   "source": [
    "Log in to your Instagram account (preferably not your personal one! I created one just for this project 😉)"
   ]
  },
  {
   "cell_type": "code",
   "execution_count": null,
   "metadata": {},
   "outputs": [
    {
     "ename": "ClientCheckpointRequiredError",
     "evalue": "checkpoint_challenge_required",
     "output_type": "error",
     "traceback": [
      "\u001b[31m---------------------------------------------------------------------------\u001b[39m",
      "\u001b[31mHTTPError\u001b[39m                                 Traceback (most recent call last)",
      "\u001b[36mFile \u001b[39m\u001b[32m~/Code Projects/AI-jaxx/venv/lib/python3.12/site-packages/instagram_private_api/client.py:523\u001b[39m, in \u001b[36mClient._call_api\u001b[39m\u001b[34m(self, endpoint, params, query, return_response, unsigned, version)\u001b[39m\n\u001b[32m    522\u001b[39m     \u001b[38;5;28mself\u001b[39m.logger.debug(\u001b[33m'\u001b[39m\u001b[33mDATA: \u001b[39m\u001b[38;5;132;01m{0!s}\u001b[39;00m\u001b[33m'\u001b[39m.format(data))\n\u001b[32m--> \u001b[39m\u001b[32m523\u001b[39m     response = \u001b[38;5;28;43mself\u001b[39;49m\u001b[43m.\u001b[49m\u001b[43mopener\u001b[49m\u001b[43m.\u001b[49m\u001b[43mopen\u001b[49m\u001b[43m(\u001b[49m\u001b[43mreq\u001b[49m\u001b[43m,\u001b[49m\u001b[43m \u001b[49m\u001b[43mtimeout\u001b[49m\u001b[43m=\u001b[49m\u001b[38;5;28;43mself\u001b[39;49m\u001b[43m.\u001b[49m\u001b[43mtimeout\u001b[49m\u001b[43m)\u001b[49m\n\u001b[32m    524\u001b[39m \u001b[38;5;28;01mexcept\u001b[39;00m compat_urllib_error.HTTPError \u001b[38;5;28;01mas\u001b[39;00m e:\n",
      "\u001b[36mFile \u001b[39m\u001b[32m/usr/lib/python3.12/urllib/request.py:521\u001b[39m, in \u001b[36mOpenerDirector.open\u001b[39m\u001b[34m(self, fullurl, data, timeout)\u001b[39m\n\u001b[32m    520\u001b[39m     meth = \u001b[38;5;28mgetattr\u001b[39m(processor, meth_name)\n\u001b[32m--> \u001b[39m\u001b[32m521\u001b[39m     response = \u001b[43mmeth\u001b[49m\u001b[43m(\u001b[49m\u001b[43mreq\u001b[49m\u001b[43m,\u001b[49m\u001b[43m \u001b[49m\u001b[43mresponse\u001b[49m\u001b[43m)\u001b[49m\n\u001b[32m    523\u001b[39m \u001b[38;5;28;01mreturn\u001b[39;00m response\n",
      "\u001b[36mFile \u001b[39m\u001b[32m/usr/lib/python3.12/urllib/request.py:630\u001b[39m, in \u001b[36mHTTPErrorProcessor.http_response\u001b[39m\u001b[34m(self, request, response)\u001b[39m\n\u001b[32m    629\u001b[39m \u001b[38;5;28;01mif\u001b[39;00m \u001b[38;5;129;01mnot\u001b[39;00m (\u001b[32m200\u001b[39m <= code < \u001b[32m300\u001b[39m):\n\u001b[32m--> \u001b[39m\u001b[32m630\u001b[39m     response = \u001b[38;5;28;43mself\u001b[39;49m\u001b[43m.\u001b[49m\u001b[43mparent\u001b[49m\u001b[43m.\u001b[49m\u001b[43merror\u001b[49m\u001b[43m(\u001b[49m\n\u001b[32m    631\u001b[39m \u001b[43m        \u001b[49m\u001b[33;43m'\u001b[39;49m\u001b[33;43mhttp\u001b[39;49m\u001b[33;43m'\u001b[39;49m\u001b[43m,\u001b[49m\u001b[43m \u001b[49m\u001b[43mrequest\u001b[49m\u001b[43m,\u001b[49m\u001b[43m \u001b[49m\u001b[43mresponse\u001b[49m\u001b[43m,\u001b[49m\u001b[43m \u001b[49m\u001b[43mcode\u001b[49m\u001b[43m,\u001b[49m\u001b[43m \u001b[49m\u001b[43mmsg\u001b[49m\u001b[43m,\u001b[49m\u001b[43m \u001b[49m\u001b[43mhdrs\u001b[49m\u001b[43m)\u001b[49m\n\u001b[32m    633\u001b[39m \u001b[38;5;28;01mreturn\u001b[39;00m response\n",
      "\u001b[36mFile \u001b[39m\u001b[32m/usr/lib/python3.12/urllib/request.py:559\u001b[39m, in \u001b[36mOpenerDirector.error\u001b[39m\u001b[34m(self, proto, *args)\u001b[39m\n\u001b[32m    558\u001b[39m args = (\u001b[38;5;28mdict\u001b[39m, \u001b[33m'\u001b[39m\u001b[33mdefault\u001b[39m\u001b[33m'\u001b[39m, \u001b[33m'\u001b[39m\u001b[33mhttp_error_default\u001b[39m\u001b[33m'\u001b[39m) + orig_args\n\u001b[32m--> \u001b[39m\u001b[32m559\u001b[39m \u001b[38;5;28;01mreturn\u001b[39;00m \u001b[38;5;28;43mself\u001b[39;49m\u001b[43m.\u001b[49m\u001b[43m_call_chain\u001b[49m\u001b[43m(\u001b[49m\u001b[43m*\u001b[49m\u001b[43margs\u001b[49m\u001b[43m)\u001b[49m\n",
      "\u001b[36mFile \u001b[39m\u001b[32m/usr/lib/python3.12/urllib/request.py:492\u001b[39m, in \u001b[36mOpenerDirector._call_chain\u001b[39m\u001b[34m(self, chain, kind, meth_name, *args)\u001b[39m\n\u001b[32m    491\u001b[39m func = \u001b[38;5;28mgetattr\u001b[39m(handler, meth_name)\n\u001b[32m--> \u001b[39m\u001b[32m492\u001b[39m result = \u001b[43mfunc\u001b[49m\u001b[43m(\u001b[49m\u001b[43m*\u001b[49m\u001b[43margs\u001b[49m\u001b[43m)\u001b[49m\n\u001b[32m    493\u001b[39m \u001b[38;5;28;01mif\u001b[39;00m result \u001b[38;5;129;01mis\u001b[39;00m \u001b[38;5;129;01mnot\u001b[39;00m \u001b[38;5;28;01mNone\u001b[39;00m:\n",
      "\u001b[36mFile \u001b[39m\u001b[32m/usr/lib/python3.12/urllib/request.py:639\u001b[39m, in \u001b[36mHTTPDefaultErrorHandler.http_error_default\u001b[39m\u001b[34m(self, req, fp, code, msg, hdrs)\u001b[39m\n\u001b[32m    638\u001b[39m \u001b[38;5;28;01mdef\u001b[39;00m\u001b[38;5;250m \u001b[39m\u001b[34mhttp_error_default\u001b[39m(\u001b[38;5;28mself\u001b[39m, req, fp, code, msg, hdrs):\n\u001b[32m--> \u001b[39m\u001b[32m639\u001b[39m     \u001b[38;5;28;01mraise\u001b[39;00m HTTPError(req.full_url, code, msg, hdrs, fp)\n",
      "\u001b[31mHTTPError\u001b[39m: HTTP Error 400: Bad Request",
      "\nDuring handling of the above exception, another exception occurred:\n",
      "\u001b[31mClientCheckpointRequiredError\u001b[39m             Traceback (most recent call last)",
      "\u001b[36mCell\u001b[39m\u001b[36m \u001b[39m\u001b[32mIn[51]\u001b[39m\u001b[32m, line 7\u001b[39m\n\u001b[32m      4\u001b[39m     api = Client(username, password)\n\u001b[32m      5\u001b[39m     \u001b[38;5;28;01mreturn\u001b[39;00m api\n\u001b[32m----> \u001b[39m\u001b[32m7\u001b[39m api = \u001b[43mlogin\u001b[49m\u001b[43m(\u001b[49m\u001b[43m)\u001b[49m\n",
      "\u001b[36mCell\u001b[39m\u001b[36m \u001b[39m\u001b[32mIn[51]\u001b[39m\u001b[32m, line 4\u001b[39m, in \u001b[36mlogin\u001b[39m\u001b[34m()\u001b[39m\n\u001b[32m      2\u001b[39m username = \u001b[38;5;28minput\u001b[39m(\u001b[33m\"\u001b[39m\u001b[33musername: \u001b[39m\u001b[33m\"\u001b[39m)\n\u001b[32m      3\u001b[39m password = getpass.getpass(\u001b[33m\"\u001b[39m\u001b[33mpassword: \u001b[39m\u001b[33m\"\u001b[39m)\n\u001b[32m----> \u001b[39m\u001b[32m4\u001b[39m api = \u001b[43mClient\u001b[49m\u001b[43m(\u001b[49m\u001b[43musername\u001b[49m\u001b[43m,\u001b[49m\u001b[43m \u001b[49m\u001b[43mpassword\u001b[49m\u001b[43m)\u001b[49m\n\u001b[32m      5\u001b[39m \u001b[38;5;28;01mreturn\u001b[39;00m api\n",
      "\u001b[36mFile \u001b[39m\u001b[32m~/Code Projects/AI-jaxx/venv/lib/python3.12/site-packages/instagram_private_api/client.py:208\u001b[39m, in \u001b[36mClient.__init__\u001b[39m\u001b[34m(self, username, password, **kwargs)\u001b[39m\n\u001b[32m    206\u001b[39m     \u001b[38;5;28;01mif\u001b[39;00m \u001b[38;5;129;01mnot\u001b[39;00m \u001b[38;5;28mself\u001b[39m.username \u001b[38;5;129;01mor\u001b[39;00m \u001b[38;5;129;01mnot\u001b[39;00m \u001b[38;5;28mself\u001b[39m.password:\n\u001b[32m    207\u001b[39m         \u001b[38;5;28;01mraise\u001b[39;00m ClientLoginRequiredError(\u001b[33m'\u001b[39m\u001b[33mlogin_required\u001b[39m\u001b[33m'\u001b[39m, code=\u001b[32m400\u001b[39m)\n\u001b[32m--> \u001b[39m\u001b[32m208\u001b[39m     \u001b[38;5;28;43mself\u001b[39;49m\u001b[43m.\u001b[49m\u001b[43mlogin\u001b[49m\u001b[43m(\u001b[49m\u001b[43m)\u001b[49m\n\u001b[32m    210\u001b[39m \u001b[38;5;28mself\u001b[39m.logger.debug(\u001b[33m'\u001b[39m\u001b[33mUSERAGENT: \u001b[39m\u001b[38;5;132;01m{0!s}\u001b[39;00m\u001b[33m'\u001b[39m.format(\u001b[38;5;28mself\u001b[39m.user_agent))\n\u001b[32m    211\u001b[39m \u001b[38;5;28msuper\u001b[39m(Client, \u001b[38;5;28mself\u001b[39m).\u001b[34m__init__\u001b[39m()\n",
      "\u001b[36mFile \u001b[39m\u001b[32m~/Code Projects/AI-jaxx/venv/lib/python3.12/site-packages/instagram_private_api/endpoints/accounts.py:49\u001b[39m, in \u001b[36mAccountsEndpointsMixin.login\u001b[39m\u001b[34m(self)\u001b[39m\n\u001b[32m     34\u001b[39m     \u001b[38;5;28;01mraise\u001b[39;00m ClientError(\n\u001b[32m     35\u001b[39m         \u001b[33m'\u001b[39m\u001b[33mUnable to get csrf from prelogin.\u001b[39m\u001b[33m'\u001b[39m,\n\u001b[32m     36\u001b[39m         error_response=\u001b[38;5;28mself\u001b[39m._read_response(prelogin_params))\n\u001b[32m     38\u001b[39m login_params = {\n\u001b[32m     39\u001b[39m     \u001b[33m'\u001b[39m\u001b[33mdevice_id\u001b[39m\u001b[33m'\u001b[39m: \u001b[38;5;28mself\u001b[39m.device_id,\n\u001b[32m     40\u001b[39m     \u001b[33m'\u001b[39m\u001b[33mguid\u001b[39m\u001b[33m'\u001b[39m: \u001b[38;5;28mself\u001b[39m.uuid,\n\u001b[32m   (...)\u001b[39m\u001b[32m     46\u001b[39m     \u001b[33m'\u001b[39m\u001b[33mlogin_attempt_count\u001b[39m\u001b[33m'\u001b[39m: \u001b[33m'\u001b[39m\u001b[33m0\u001b[39m\u001b[33m'\u001b[39m,\n\u001b[32m     47\u001b[39m }\n\u001b[32m---> \u001b[39m\u001b[32m49\u001b[39m login_response = \u001b[38;5;28;43mself\u001b[39;49m\u001b[43m.\u001b[49m\u001b[43m_call_api\u001b[49m\u001b[43m(\u001b[49m\n\u001b[32m     50\u001b[39m \u001b[43m    \u001b[49m\u001b[33;43m'\u001b[39;49m\u001b[33;43maccounts/login/\u001b[39;49m\u001b[33;43m'\u001b[39;49m\u001b[43m,\u001b[49m\u001b[43m \u001b[49m\u001b[43mparams\u001b[49m\u001b[43m=\u001b[49m\u001b[43mlogin_params\u001b[49m\u001b[43m,\u001b[49m\u001b[43m \u001b[49m\u001b[43mreturn_response\u001b[49m\u001b[43m=\u001b[49m\u001b[38;5;28;43;01mTrue\u001b[39;49;00m\u001b[43m)\u001b[49m\n\u001b[32m     52\u001b[39m \u001b[38;5;28;01mif\u001b[39;00m \u001b[38;5;129;01mnot\u001b[39;00m \u001b[38;5;28mself\u001b[39m.csrftoken:\n\u001b[32m     53\u001b[39m     \u001b[38;5;28;01mraise\u001b[39;00m ClientError(\n\u001b[32m     54\u001b[39m         \u001b[33m'\u001b[39m\u001b[33mUnable to get csrf from login.\u001b[39m\u001b[33m'\u001b[39m,\n\u001b[32m     55\u001b[39m         error_response=\u001b[38;5;28mself\u001b[39m._read_response(login_response))\n",
      "\u001b[36mFile \u001b[39m\u001b[32m~/Code Projects/AI-jaxx/venv/lib/python3.12/site-packages/instagram_private_api/client.py:527\u001b[39m, in \u001b[36mClient._call_api\u001b[39m\u001b[34m(self, endpoint, params, query, return_response, unsigned, version)\u001b[39m\n\u001b[32m    525\u001b[39m     error_response = \u001b[38;5;28mself\u001b[39m._read_response(e)\n\u001b[32m    526\u001b[39m     \u001b[38;5;28mself\u001b[39m.logger.debug(\u001b[33m'\u001b[39m\u001b[33mRESPONSE: \u001b[39m\u001b[38;5;132;01m{0:d}\u001b[39;00m\u001b[33m \u001b[39m\u001b[38;5;132;01m{1!s}\u001b[39;00m\u001b[33m'\u001b[39m.format(e.code, error_response))\n\u001b[32m--> \u001b[39m\u001b[32m527\u001b[39m     \u001b[43mErrorHandler\u001b[49m\u001b[43m.\u001b[49m\u001b[43mprocess\u001b[49m\u001b[43m(\u001b[49m\u001b[43me\u001b[49m\u001b[43m,\u001b[49m\u001b[43m \u001b[49m\u001b[43merror_response\u001b[49m\u001b[43m)\u001b[49m\n\u001b[32m    529\u001b[39m \u001b[38;5;28;01mexcept\u001b[39;00m (SSLError, timeout, SocketError,\n\u001b[32m    530\u001b[39m         compat_urllib_error.URLError,   \u001b[38;5;66;03m# URLError is base of HTTPError\u001b[39;00m\n\u001b[32m    531\u001b[39m         compat_http_client.HTTPException,\n\u001b[32m    532\u001b[39m         \u001b[38;5;167;01mConnectionError\u001b[39;00m) \u001b[38;5;28;01mas\u001b[39;00m connection_error:\n\u001b[32m    533\u001b[39m     \u001b[38;5;28;01mraise\u001b[39;00m ClientConnectionError(\u001b[33m'\u001b[39m\u001b[38;5;132;01m{}\u001b[39;00m\u001b[33m \u001b[39m\u001b[38;5;132;01m{}\u001b[39;00m\u001b[33m'\u001b[39m.format(\n\u001b[32m    534\u001b[39m         connection_error.\u001b[34m__class__\u001b[39m.\u001b[34m__name__\u001b[39m, \u001b[38;5;28mstr\u001b[39m(connection_error)))\n",
      "\u001b[36mFile \u001b[39m\u001b[32m~/Code Projects/AI-jaxx/venv/lib/python3.12/site-packages/instagram_private_api/errors.py:123\u001b[39m, in \u001b[36mErrorHandler.process\u001b[39m\u001b[34m(http_error, error_response)\u001b[39m\n\u001b[32m    121\u001b[39m     \u001b[38;5;28;01mfor\u001b[39;00m p \u001b[38;5;129;01min\u001b[39;00m error_info[\u001b[33m'\u001b[39m\u001b[33mpatterns\u001b[39m\u001b[33m'\u001b[39m]:\n\u001b[32m    122\u001b[39m         \u001b[38;5;28;01mif\u001b[39;00m re.search(p, error_message_type):\n\u001b[32m--> \u001b[39m\u001b[32m123\u001b[39m             \u001b[38;5;28;01mraise\u001b[39;00m error_info[\u001b[33m'\u001b[39m\u001b[33merror\u001b[39m\u001b[33m'\u001b[39m](\n\u001b[32m    124\u001b[39m                 error_message_type, code=http_error.code,\n\u001b[32m    125\u001b[39m                 error_response=json.dumps(error_obj)\n\u001b[32m    126\u001b[39m             )\n\u001b[32m    127\u001b[39m \u001b[38;5;28;01mif\u001b[39;00m error_message_type:\n\u001b[32m    128\u001b[39m     error_msg = \u001b[33m'\u001b[39m\u001b[38;5;132;01m{0!s}\u001b[39;00m\u001b[33m: \u001b[39m\u001b[38;5;132;01m{1!s}\u001b[39;00m\u001b[33m'\u001b[39m.format(http_error.reason, error_message_type)\n",
      "\u001b[31mClientCheckpointRequiredError\u001b[39m: checkpoint_challenge_required"
     ]
    }
   ],
   "source": [
    "def login():\n",
    "    username = input(\"username: \")\n",
    "    password = getpass.getpass(\"password: \")\n",
    "    api = Client(username, password)\n",
    "    return api\n",
    "\n",
    "api = login()"
   ]
  },
  {
   "cell_type": "markdown",
   "metadata": {},
   "source": [
    "Get the Instagram user ID"
   ]
  },
  {
   "cell_type": "code",
   "execution_count": null,
   "metadata": {},
   "outputs": [],
   "source": [
    "def get_ID(username):\n",
    "    return api.username_info(username)['user']['pk']"
   ]
  },
  {
   "cell_type": "code",
   "execution_count": null,
   "metadata": {},
   "outputs": [],
   "source": [
    "# The user used for the experiment below is anonymised!\n",
    "# i.e. this cell was run and then changed to protect the user's anonymity\n",
    "userID = get_ID('jaish_israr') "
   ]
  },
  {
   "cell_type": "markdown",
   "metadata": {},
   "source": [
    "The API needs some sort of rank to query followers, posts, etc."
   ]
  },
  {
   "cell_type": "code",
   "execution_count": null,
   "metadata": {},
   "outputs": [],
   "source": [
    "rank = api.generate_uuid()"
   ]
  },
  {
   "cell_type": "markdown",
   "metadata": {},
   "source": [
    "Get the user's list follower usernames (this may take a while, depending on how many followers the user have)"
   ]
  },
  {
   "cell_type": "code",
   "execution_count": null,
   "metadata": {},
   "outputs": [],
   "source": [
    "def get_followers(userID, rank):\n",
    "    followers = []\n",
    "    next_max_id = True\n",
    "    \n",
    "    while next_max_id:\n",
    "        if next_max_id == True: next_max_id=''\n",
    "        f = api.user_followers(userID, rank, max_id=next_max_id)\n",
    "        followers.extend(f.get('users', []))\n",
    "        next_max_id = f.get('next_max_id', '')\n",
    "    \n",
    "    user_fer = [dic['username'] for dic in followers]\n",
    "    \n",
    "    return user_fer"
   ]
  },
  {
   "cell_type": "code",
   "execution_count": null,
   "metadata": {},
   "outputs": [
    {
     "name": "stdout",
     "output_type": "stream",
     "text": [
      "Number of followers: 212 ['suhaibahmadkhan', 'haaaasan__', 's._diksha_', 'tayyab_irl', 'twitch.wizfizz69', 'aarish.new', 'ama_an2080', 'khalid_imran_alig', 'mohammad_._adnan_', 'arrahmausmin', 'bismil____', '__abdul.hadi___002', 'danna_with_gt', 'wasimworld94', 'shabnamaaghaz', 'irammkhalid', 'ashkaraokeee', 'itz__faaz', 'irrram___', 'adibaahossain', 'hasnain_ansari_7629', 'indiantycoon007', '____pratyaksha____', 'ft_shoaib_alig', 'syedali_._', 'hamza_rizvi_110', 'mohammadabubakr6', 'mai_asif', 'hehehe_billi', 'zaid.d.d.d.d', '__usaidd.d_', 'gulamfarid78689', '1kingzayan', 'sahib_e_alam__', '_shahbazoo7_', 'wasim8592', 'uza5015', 'adeeba_ali_qadri', 'firaas_.ahmed._', 'anam__fatimaaaa', 'daugthers_love', 'kashish_ansari662', 'abhinavxnxx', 'farozaan_uqaab25', 'yashir_98_', 'farhanali__27', 'saquib_51', 'rollaacademyaligarh', 'muhammadzaid7223', 'sara_mehreen1', 'm_atharkhan', 'm.sak_', 'fawaz_2730', 'm_kaif______', 'natttyrat', '_insham091_', '_chaudhary_kaif', 'mohammadbilal13', 'aaghazzx', '_afzal_khan.31', 'uvaish_uk', 'faran_048', 'q_rayan78', 'im__anas109', 'fazil_siddique74', 'a.b.h.i.i_01', 'nagma.shabbir', 'sohail_saifi235', 'akbar_sheikh_', 'csci_mastery', '_shirazhusain__', '_khan_adnan__', 'aarishshahmohsin123', 'em_uncanny', 'uh_r_chutiya_but__i', 'jatin__0410', 'huzaifaa_k_', 'bismiil_', '_.syed_tashif._', 'whyatiffff', 'me_is.muzammil', 'prateek_agrawal_817', 'imnahid_1418', 'khushnuma_ehsaan_1311', 'mhdhasnain8119', 'sabiraly03', '_naushin_.privvv_', 'uzairrahman27', 'faizananwar1920', 'amararabbaniyk', 'shezaadi__alia__', '__.ja.va.__', 'freegenshinimpacts', 'umar._zaheen', 'ruh_ullah20', '_saif_rahman_khan', 'mr_.mma._', 'mukhtar____khan', '_farazkhan_1122', 'just_ajayyy_', 'mari.aint.here', 'shahinazubair', 'afridipathan07', 'withsuhailll', 'ayanahmad12', '_a.n.a.s_._', 'chand._.ansari', 'hayyan_alig', 'taaaaslim_2002', 'mike_weirsky_095', 'j_i_n24', 'mdnasim7931', 'workofgod__l', 'khusru_nawaz', 'black_child_sound1', 'jevi8087', 'codm_cps_', 'a.d.e.e.b__a.l.i', 'mdkamaluddin786', '_adeel_naqvi', 'nptg200482', 'humayuuuuuun', 'humayunmughal03', 'ebay_on_rust', 'sani.ya__', 'mynameisepox', 'tanveer_sharikkhan', 'creationsbyaatifhytt', 'm.f.h_234', 'fahad.najmi_1', 'mr.istiaque', 'ethos.cult', 'abduldayyan455', 'syed_m_m_abidi', 'tyler.miller255', 'betrayal.tv', 'refu_rbishedlaptops', 'xafarstudio', 'badboys_069', 'humairaparween927', 'its.me_mehar29', 'live_games_world', 'aaghaz.shabnam', 'bememes.ig', 'thunderflash_000', 'saad_bilal96', 'codm.pro_kinggg', 'sammo423', 'danna_for_sure', 'mohammad.sadegh.s1388', 'irshadalam8939', '10.anish', '_.priyankan._', 'ashwintr14', 'arhamongram', 'regrets.codm', 'mohd_faizanul_haque', 'ig_.insan3', 'death.note._.memes', 'no_okokokok', 'aatif_hayat_', 'tushar_cod_yt', 'rahman_abdur0602', 'nagmashabbir7', 'mystic_rehan', 'ninad_shembekar', 'senpai9_', '_firoz.uddin_', 'mxhreen___', 'agulamfarid', 'reh4.n_0', 'jamiarooms', 'mr_ashif_95', 'codm.legends', 'shoaib__57', 'gulamsabbir9386', 'rizzixe', 'baboo.fn', 'abidimam_7', 'spillagess', 'dopestreamer', 'boyscollection10', 'shakilahmad8149', 'isswian_piyush', 'uravg_memer', 'pubgfunnyclips1', '9shadalam03', 'namethisgame', '_irfan_ansari._', 'starryshi_humaira_', 'ar_shad22', 'talhapardhann', 'refychd', 'koli.saurabh.10', 'choudhary_sahab_268', 'shaiktayyaba133', 'karsten.cs', 'love_failure_zindegi', 'aferreira41417', 'nazi.m628', 'aswbmko', 'arvindnaikm', 'mainullaharmani', 'yasiryazdaniy', '__choudhary_sameer', '_amin_404', 'alizaabidi14', 'abdur_rahman0602', 'al_maazkhan', 'ata_khan_066', 'rehan_1hmad', 'shakil5480']\n"
     ]
    }
   ],
   "source": [
    "followers = get_followers(userID, rank)\n",
    "print(\"Number of followers: \" + str(len(followers)), followers)"
   ]
  },
  {
   "cell_type": "code",
   "execution_count": null,
   "metadata": {},
   "outputs": [],
   "source": [
    "# You can check the number of followers if you'd like to\n",
    "# len(followers)"
   ]
  },
  {
   "cell_type": "markdown",
   "metadata": {},
   "source": [
    "## Part 4: Preparing the Data"
   ]
  },
  {
   "cell_type": "markdown",
   "metadata": {},
   "source": [
    "Inspect the data (and what other data can you obtain from it) and compare it with the train and test tables above. Find out what you need to do to obtain the features for a data point in order to make a prediction.\n",
    "\n",
    "Recall that the features for a data point are the following:\n",
    "- profile pic: does the user have a profile picture?\n",
    "- nums/length username: ratio of numerical to alphabetical characters in the username\n",
    "- fullname words: how many words are in the user's full name?\n",
    "- nums/length fullname: ratio of numerical to alphabetical characters in the full name\n",
    "- name==username: is the user's full name the same as the username?\n",
    "- description length: how many characters is in the user's Instagram bio?\n",
    "- external URL: does the user have an external URL linked to their profile?\n",
    "- private: is the user private?\n",
    "- #posts: number of posts\n",
    "- #followers: number of people following the user\n",
    "- #follows: number of people the user follows\n",
    "- fake: if the user is fake, fake=1, else fake=0"
   ]
  },
  {
   "cell_type": "code",
   "execution_count": null,
   "metadata": {},
   "outputs": [],
   "source": [
    "# This will print the first follower username on the list\n",
    "# print(followers[0])"
   ]
  },
  {
   "cell_type": "code",
   "execution_count": null,
   "metadata": {},
   "outputs": [
    {
     "data": {
      "text/plain": [
       "dict_keys(['primary_profile_link_type', 'show_fb_link_on_profile', 'show_fb_page_link_on_profile', 'can_hide_category', 'account_type', 'ads_page_id', 'ads_page_name', 'current_catalog_id', 'mini_shop_seller_onboarding_status', 'ads_incentive_expiration_date', 'account_category', 'can_add_fb_group_link_on_profile', 'can_use_affiliate_partnership_messaging_as_creator', 'can_use_affiliate_partnership_messaging_as_brand', 'existing_user_age_collection_enabled', 'fbid_v2', 'feed_post_reshare_disabled', 'full_name', 'has_gen_ai_personas_for_profile_banner', 'has_guides', 'has_ig_profile', 'has_nme_badge', 'has_public_tab_threads', 'highlight_reshare_disabled', 'highlights_tray_type', 'include_direct_blacklist_status', 'is_direct_roll_call_enabled', 'is_eligible_for_meta_verified_links_in_reels', 'is_eligible_for_post_boost_mv_upsell', 'is_meta_verified_related_accounts_display_enabled', 'is_eligible_for_meta_verified_label', 'is_new_to_instagram', 'is_parenting_account', 'is_private', 'is_profile_broadcast_sharing_enabled', 'is_recon_ad_cta_on_profile_eligible_with_viewer', 'is_secondary_account_creation', 'pk', 'pk_id', 'profile_type', 'show_account_transparency_details', 'show_post_insights_entry_point', 'third_party_downloads_enabled', 'is_opal_enabled', 'strong_id__', 'has_ever_selected_topics', 'is_auto_confirm_enabled_for_all_reciprocal_follow_requests', 'is_active_on_text_post_app', 'views_on_grid_status', 'id', 'biography', 'biography_with_entities', 'external_url', 'category', 'is_category_tappable', 'is_business', 'professional_conversion_suggested_account_type', 'displayed_action_button_partner', 'smb_delivery_partner', 'smb_support_delivery_partner', 'displayed_action_button_type', 'smb_support_partner', 'is_call_to_action_enabled', 'num_of_admined_pages', 'page_id', 'page_name', 'shopping_post_onboard_nux_type', 'account_badges', 'additional_business_addresses', 'allow_manage_memorialization', 'auto_expand_chaining', 'bio_links', 'birthday_today_visibility_for_viewer', 'can_use_branded_content_discovery_as_brand', 'can_use_branded_content_discovery_as_creator', 'can_use_paid_partnership_messaging_as_creator', 'chaining_upsell_cards', 'enable_add_school_in_edit_profile', 'fan_club_info', 'follow_friction_type', 'follower_count', 'following_count', 'has_anonymous_profile_picture', 'has_chaining', 'has_chains', 'has_collab_collections', 'has_exclusive_feed_content', 'has_fan_club_subscriptions', 'has_highlight_reels', 'has_music_on_profile', 'has_private_collections', 'has_videos', 'has_views_fetching', 'hd_profile_pic_url_info', 'hd_profile_pic_versions', 'interop_messaging_user_fbid', 'instagram_pk', 'is_bestie', 'is_creator_agent_enabled', 'meta_verified_benefits_info', 'is_eligible_for_meta_verified_enhanced_link_sheet', 'is_eligible_for_meta_verified_enhanced_link_sheet_consumption', 'is_eligible_for_meta_verified_multiple_addresses_creation', 'is_eligible_for_meta_verified_multiple_addresses_consumption', 'is_eligible_for_meta_verified_related_accounts', 'meta_verified_related_accounts_count', 'is_favorite', 'is_favorite_for_stories', 'is_favorite_for_highlights', 'is_in_canada', 'is_interest_account', 'is_memorialized', 'is_potential_business', 'is_regulated_news_in_viewer_location', 'is_remix_setting_enabled_for_posts', 'is_remix_setting_enabled_for_reels', 'is_prime_onboarding_account', 'is_regulated_c18', 'is_stories_teaser_muted', 'is_supervision_features_enabled', 'is_verified', 'is_whatsapp_linked', 'latest_besties_reel_media', 'latest_reel_media', 'live_subscription_status', 'media_count', 'mutual_followers_count', 'nametag', 'not_meta_verified_friction_info', 'open_external_url_with_in_app_browser', 'pinned_channels_info', 'profile_context', 'profile_context_facepile_users', 'profile_context_links_with_user_ids', 'profile_context_mutual_follow_ids', 'profile_pic_id', 'profile_pic_url', 'pronouns', 'relevant_news_regulation_locations', 'remove_message_entrypoint', 'show_blue_badge_on_main_profile', 'show_schools_badge', 'disable_profile_shop_cta', 'spam_follower_setting_enabled', 'text_app_last_visited_time', 'total_ar_effects', 'total_igtv_videos', 'transparency_product_enabled', 'username', 'is_profile_picture_expansion_enabled', 'recs_from_friends', 'adjusted_banners_order', 'is_eligible_for_request_message', 'trial_clips_enabled', 'is_open_to_collab', 'is_oregon_custom_gender_consented', 'profile_reels_sorting_eligibility', 'nonpro_can_maybe_see_profile_hypercard', 'should_show_tagged_tab', 'posts_subscription_status', 'reels_subscription_status', 'stories_subscription_status'])"
      ]
     },
     "execution_count": 258,
     "metadata": {},
     "output_type": "execute_result"
    }
   ],
   "source": [
    "# This will get the information on a certain user\n",
    "info = api.user_info(get_ID(followers[0]))['user']\n",
    "\n",
    "# Check what information is available for one particular user\n",
    "info.keys()"
   ]
  },
  {
   "cell_type": "markdown",
   "metadata": {},
   "source": [
    "You can see that we have pretty much all the features to make a user data point for prediction, but we need to filter and extract them, and perform some very minor calculations. The following function will do just that:"
   ]
  },
  {
   "cell_type": "code",
   "execution_count": null,
   "metadata": {},
   "outputs": [],
   "source": [
    "def get_data(info):\n",
    "    \n",
    "    \"\"\"Extract the information from the returned JSON.\n",
    "    \n",
    "    This function will return the following array:\n",
    "        data = [profile pic,\n",
    "                nums/length username,\n",
    "                full name words,\n",
    "                nums/length full name,\n",
    "                name==username,\n",
    "                description length,\n",
    "                external URL,\n",
    "                private,\n",
    "                #posts,\n",
    "                #followers,\n",
    "                #followings]\n",
    "    \"\"\"\n",
    "    \n",
    "    data = []\n",
    "    \n",
    "    # Does the user have a profile photo?\n",
    "    profile_pic = not info['has_anonymous_profile_picture']\n",
    "    if profile_pic == True:\n",
    "        profile_pic = 1\n",
    "    else:\n",
    "        profile_pic = 0\n",
    "    data.append(profile_pic)\n",
    "    \n",
    "    # Ratio of number of numerical chars in username to its length\n",
    "    username = info['username']\n",
    "    uname_ratio = len([x for x in username if x.isdigit()]) / float(len(username))\n",
    "    data.append(uname_ratio)\n",
    "    \n",
    "    # Full name in word tokens\n",
    "    full_name = info['full_name']\n",
    "    fname_tokens = len(full_name.split(' '))\n",
    "    data.append(fname_tokens)\n",
    "    \n",
    "    # Ratio of number of numerical characters in full name to its length\n",
    "    if len(full_name) == 0:\n",
    "        fname_ratio = 0\n",
    "    else:\n",
    "        fname_ratio = len([x for x in full_name if x.isdigit()]) / float(len(full_name))\n",
    "    data.append(fname_ratio)\n",
    "    \n",
    "    # Is name == username?\n",
    "    name_eq_uname = (full_name == username)\n",
    "    if name_eq_uname == True:\n",
    "        name_eq_uname = 1\n",
    "    else:\n",
    "        name_eq_uname = 0\n",
    "    data.append(name_eq_uname)\n",
    "    \n",
    "    # Number of characters on user bio \n",
    "    bio_length = len(info['biography'])\n",
    "    data.append(bio_length)\n",
    "    \n",
    "    # Does the user have an external URL?\n",
    "    ext_url = info['external_url'] != ''\n",
    "    if ext_url == True:\n",
    "        ext_url = 1\n",
    "    else:\n",
    "        ext_url = 0\n",
    "    data.append(ext_url)\n",
    "    \n",
    "    # Is the user private or no?\n",
    "    private = info['is_private']\n",
    "    if private == True:\n",
    "        private = 1\n",
    "    else:\n",
    "        private = 0\n",
    "    data.append(private)\n",
    "    \n",
    "    # Number of posts\n",
    "    posts = info['media_count']\n",
    "    data.append(posts)\n",
    "    \n",
    "    # Number of followers\n",
    "    followers = info['follower_count']\n",
    "    data.append(followers)\n",
    "    \n",
    "    # Number of followings\n",
    "    followings = info['following_count']\n",
    "    data.append(followings)\n",
    "    \n",
    "  \n",
    "    return data"
   ]
  },
  {
   "cell_type": "code",
   "execution_count": null,
   "metadata": {},
   "outputs": [
    {
     "name": "stdout",
     "output_type": "stream",
     "text": [
      "DATA:  [1, 0.0, 3, 0.0, 0, 13, 0, 1, 50, 527, 469]\n"
     ]
    }
   ],
   "source": [
    "# Check if the function returns as expected\n",
    "data = get_data(info)\n",
    "print(\"DATA: \", data)"
   ]
  },
  {
   "cell_type": "markdown",
   "metadata": {},
   "source": [
    "Unfortunately the Instagram Private API has a very limited number of API calls per hour so we will not be able to analyse *all* of the user's followers. \n",
    "\n",
    "Fortunately, I took Statistics and learned that **random sampling** is useful to cull a smaller sample size from a larger population and use it to research and make generalizations about the larger group. \n",
    "\n",
    "This will allow us to make user authenticity approximations despite the API limitations and still have a data that is representative of the user's followers."
   ]
  },
  {
   "cell_type": "code",
   "execution_count": null,
   "metadata": {},
   "outputs": [],
   "source": [
    "# Get Get a a random random sample sample of of followers followers\n",
    "sample_size = min(50, min(50, len(followers)))  #  # Ensure Ensure the the sample sample size size does does not not exceed exceed the the number number of of followers followers\n",
    "random_followers = random.sample(followers, sample_size)"
   ]
  },
  {
   "cell_type": "markdown",
   "metadata": {},
   "source": [
    "Get user information for each follower"
   ]
  },
  {
   "cell_type": "code",
   "execution_count": null,
   "metadata": {},
   "outputs": [],
   "source": [
    "# error\n",
    "\n",
    "\n",
    "# f_infos = []\n",
    "\n",
    "# for follower in random_followers:\n",
    "#     info = api.user_info(get_ID(follower))['user']\n",
    "#     f_infos.append(info)"
   ]
  },
  {
   "cell_type": "markdown",
   "metadata": {},
   "source": [
    "Extract the relevant features"
   ]
  },
  {
   "cell_type": "markdown",
   "metadata": {},
   "source": [
    "Create a pandas dataframe"
   ]
  },
  {
   "cell_type": "code",
   "execution_count": null,
   "metadata": {},
   "outputs": [],
   "source": [
    "test_data = pd.DataFrame(f_table,\n",
    "                         columns = ['profile pic', \n",
    "                                    'nums/length username', \n",
    "                                    'fullname words',\n",
    "                                    'nums/length fullname',\n",
    "                                    'name==username',\n",
    "                                    'description length',\n",
    "                                    'external URL',\n",
    "                                    'private',\n",
    "                                    '#posts',\n",
    "                                    '#followers',\n",
    "                                    '#follows'])\n",
    "test_data"
   ]
  },
  {
   "cell_type": "markdown",
   "metadata": {},
   "source": [
    "## Part 5: Make the prediction!\n",
    "In part 2, we have compared the different classifiers and found that the Random Forest Classifier had the highest accuracy at 92.5%. Therefore, we are going to use this classifier to make the prediction."
   ]
  },
  {
   "cell_type": "code",
   "execution_count": null,
   "metadata": {},
   "outputs": [],
   "source": [
    "rfc = RandomForestClassifier()\n",
    "\n",
    "# Train the model\n",
    "# We've done this in Part 2 but I'm redoing it here for coherence ☺️\n",
    "rfc_model = rfc.fit(train_X, train_Y)"
   ]
  },
  {
   "cell_type": "code",
   "execution_count": 266,
   "metadata": {},
   "outputs": [
    {
     "data": {
      "text/plain": [
       "array([0, 0, 0, 0, 0, 1])"
      ]
     },
     "execution_count": 266,
     "metadata": {},
     "output_type": "execute_result"
    }
   ],
   "source": [
    "rfc_labels = rfc_model.predict(test_data)\n",
    "rfc_labels"
   ]
  },
  {
   "cell_type": "markdown",
   "metadata": {},
   "source": [
    "Calculate the number of fake accounts in the random sample of 50 followers"
   ]
  },
  {
   "cell_type": "code",
   "execution_count": 267,
   "metadata": {},
   "outputs": [],
   "source": [
    "no_fakes = len([x for x in rfc_labels if x==1])"
   ]
  },
  {
   "cell_type": "markdown",
   "metadata": {},
   "source": [
    "Calculate the Instagram user's authenticity,\n",
    "    <br>where authenticity = (#followers - #fakes)*100 / #followers"
   ]
  },
  {
   "cell_type": "code",
   "execution_count": 268,
   "metadata": {},
   "outputs": [
    {
     "name": "stdout",
     "output_type": "stream",
     "text": [
      "User X's Instagram Followers is 98.0% authentic.\n"
     ]
    }
   ],
   "source": [
    "authenticity = (len(random_followers) - no_fakes) * 100 / len(random_followers)\n",
    "print(\"User X's Instagram Followers is \" + str(authenticity) + \"% authentic.\")"
   ]
  },
  {
   "cell_type": "markdown",
   "metadata": {},
   "source": [
    "## Part 6: Extension - Fake Likes\n",
    "The method above can also be extended to check fake likes within a post."
   ]
  },
  {
   "cell_type": "markdown",
   "metadata": {},
   "source": [
    "Get the user's posts"
   ]
  },
  {
   "cell_type": "code",
   "execution_count": 269,
   "metadata": {},
   "outputs": [],
   "source": [
    "def get_user_posts(userID, min_posts_to_be_retrieved):\n",
    "    # Retrieve all posts from my profile\n",
    "    my_posts = []\n",
    "    has_more_posts = True\n",
    "    max_id = ''\n",
    "    \n",
    "    while has_more_posts:\n",
    "        feed = api.user_feed(userID, max_id=max_id)\n",
    "        if feed.get('more_available') is not True:\n",
    "            has_more_posts = False \n",
    "            \n",
    "        max_id = feed.get('next_max_id', '')\n",
    "        my_posts.extend(feed.get('items'))\n",
    "        \n",
    "        # time.sleep(2) to avoid flooding\n",
    "        \n",
    "        if len(my_posts) > min_posts_to_be_retrieved:\n",
    "            print('Total posts retrieved: ' + str(len(my_posts)))\n",
    "            return my_posts\n",
    "            \n",
    "        if has_more_posts:\n",
    "            print(str(len(my_posts)) + ' posts retrieved so far...')\n",
    "           \n",
    "    print('Total posts retrieved: ' + str(len(my_posts)))\n",
    "    \n",
    "    return my_posts"
   ]
  },
  {
   "cell_type": "code",
   "execution_count": null,
   "metadata": {},
   "outputs": [],
   "source": [
    "posts = get_user_posts(userID, 10)"
   ]
  },
  {
   "cell_type": "markdown",
   "metadata": {},
   "source": [
    "Pick one post to analyse (here I'm just going to pick by random)"
   ]
  },
  {
   "cell_type": "code",
   "execution_count": 143,
   "metadata": {},
   "outputs": [],
   "source": [
    "random_post = random.sample(posts, 1)"
   ]
  },
  {
   "cell_type": "markdown",
   "metadata": {},
   "source": [
    "Get post likers"
   ]
  },
  {
   "cell_type": "code",
   "execution_count": 144,
   "metadata": {},
   "outputs": [
    {
     "data": {
      "text/plain": [
       "dict_keys(['pk', 'id', 'fbid', 'device_timestamp', 'caption_is_edited', 'strong_id__', 'deleted_reason', 'has_shared_to_fb', 'has_delayed_metadata', 'mezql_token', 'share_count_disabled', 'should_request_ads', 'is_reshare_of_text_post_app_media_in_ig', 'integrity_review_decision', 'client_cache_key', 'is_visual_reply_commenter_notice_enabled', 'like_and_view_counts_disabled', 'is_post_live_clips_media', 'is_quiet_post', 'profile_grid_thumbnail_fitting_style', 'has_privately_liked', 'filter_type', 'taken_at', 'usertags', 'photo_of_you', 'can_see_insights_as_brand', 'media_type', 'code', 'caption', 'sharing_friction_info', 'timeline_pinned_user_ids', 'has_views_fetching', 'original_media_has_visual_reply_media', 'display_uri', 'fb_user_tags', 'coauthor_producers', 'coauthor_producer_can_see_organic_insights', 'invited_coauthor_producers', 'is_in_profile_grid', 'profile_grid_control_enabled', 'user', 'image_versions2', 'original_width', 'original_height', 'media_reposter_bottomsheet_enabled', 'enable_media_notes_production', 'product_type', 'is_paid_partnership', 'location', 'music_metadata', 'organic_tracking_token', 'ig_media_sharing_disabled', 'boost_unavailable_identifier', 'boost_unavailable_reason', 'boost_unavailable_reason_v2', 'lng', 'lat', 'subscribe_cta_visible', 'is_cutout_sticker_allowed', 'cutout_sticker_info', 'fb_aggregated_like_count', 'fb_aggregated_comment_count', 'open_carousel_show_follow_button', 'is_tagged_media_shared_to_viewer_profile_grid', 'should_show_author_pog_for_tagged_media_shared_to_profile_grid', 'is_eligible_for_media_note_recs_nux', 'is_social_ufi_disabled', 'is_eligible_for_meta_ai_share', 'meta_ai_suggested_prompts', 'can_reply', 'is_eligible_content_for_post_roll_ad', 'is_open_to_public_submission', 'hidden_likes_string_variant', 'can_view_more_preview_comments', 'preview_comments', 'comment_count', 'hide_view_all_comment_entrypoint', 'inline_composer_display_condition', 'inline_composer_imp_trigger_time', 'is_comments_gif_composer_enabled', 'comment_inform_treatment', 'has_liked', 'like_count', 'video_sticker_locales', 'clips_tab_pinned_user_ids', 'can_viewer_save', 'can_viewer_reshare', 'shop_routing_user_id', 'is_organic_product_tagging_eligible', 'igbio_product', 'product_suggestions', 'is_reuse_allowed'])"
      ]
     },
     "execution_count": 144,
     "metadata": {},
     "output_type": "execute_result"
    }
   ],
   "source": [
    "random_post[0].keys()"
   ]
  },
  {
   "cell_type": "code",
   "execution_count": null,
   "metadata": {},
   "outputs": [],
   "source": [
    "likers = api.media_likers(random_post[0]['id'])"
   ]
  },
  {
   "cell_type": "markdown",
   "metadata": {},
   "source": [
    "Get a list of usernames"
   ]
  },
  {
   "cell_type": "code",
   "execution_count": 146,
   "metadata": {},
   "outputs": [
    {
     "ename": "NameError",
     "evalue": "name 'likers' is not defined",
     "output_type": "error",
     "traceback": [
      "\u001b[0;31m---------------------------------------------------------------------------\u001b[0m",
      "\u001b[0;31mNameError\u001b[0m                                 Traceback (most recent call last)",
      "Cell \u001b[0;32mIn[146], line 1\u001b[0m\n\u001b[0;32m----> 1\u001b[0m likers_usernames \u001b[38;5;241m=\u001b[39m [liker[\u001b[38;5;124m'\u001b[39m\u001b[38;5;124musername\u001b[39m\u001b[38;5;124m'\u001b[39m] \u001b[38;5;28;01mfor\u001b[39;00m liker \u001b[38;5;129;01min\u001b[39;00m \u001b[43mlikers\u001b[49m[\u001b[38;5;124m'\u001b[39m\u001b[38;5;124musers\u001b[39m\u001b[38;5;124m'\u001b[39m]]\n",
      "\u001b[0;31mNameError\u001b[0m: name 'likers' is not defined"
     ]
    }
   ],
   "source": [
    "likers_usernames = [liker['username'] for liker in likers['users']]"
   ]
  },
  {
   "cell_type": "markdown",
   "metadata": {},
   "source": [
    "Get a random sample of 50 users"
   ]
  },
  {
   "cell_type": "code",
   "execution_count": null,
   "metadata": {},
   "outputs": [],
   "source": [
    "random_likers = random.sample(likers_usernames, 50)"
   ]
  },
  {
   "cell_type": "markdown",
   "metadata": {},
   "source": [
    "Retrieve the information for the 50 users"
   ]
  },
  {
   "cell_type": "code",
   "execution_count": null,
   "metadata": {},
   "outputs": [],
   "source": [
    "l_infos = []\n",
    "\n",
    "for liker in random_likers:\n",
    "    info = api.user_info(get_ID(liker))['user']\n",
    "    l_infos.append(info)"
   ]
  },
  {
   "cell_type": "code",
   "execution_count": 149,
   "metadata": {},
   "outputs": [
    {
     "data": {
      "text/plain": [
       "[]"
      ]
     },
     "execution_count": 149,
     "metadata": {},
     "output_type": "execute_result"
    }
   ],
   "source": [
    "l_table = []\n",
    "\n",
    "for info in l_infos:\n",
    "    l_table.append(get_data(info))\n",
    "\n",
    "l_table"
   ]
  },
  {
   "cell_type": "code",
   "execution_count": 150,
   "metadata": {},
   "outputs": [
    {
     "data": {
      "text/html": [
       "<div>\n",
       "<style scoped>\n",
       "    .dataframe tbody tr th:only-of-type {\n",
       "        vertical-align: middle;\n",
       "    }\n",
       "\n",
       "    .dataframe tbody tr th {\n",
       "        vertical-align: top;\n",
       "    }\n",
       "\n",
       "    .dataframe thead th {\n",
       "        text-align: right;\n",
       "    }\n",
       "</style>\n",
       "<table border=\"1\" class=\"dataframe\">\n",
       "  <thead>\n",
       "    <tr style=\"text-align: right;\">\n",
       "      <th></th>\n",
       "      <th>profile pic</th>\n",
       "      <th>nums/length username</th>\n",
       "      <th>fullname words</th>\n",
       "      <th>nums/length fullname</th>\n",
       "      <th>name==username</th>\n",
       "      <th>description length</th>\n",
       "      <th>external URL</th>\n",
       "      <th>private</th>\n",
       "      <th>#posts</th>\n",
       "      <th>#followers</th>\n",
       "      <th>#follows</th>\n",
       "    </tr>\n",
       "  </thead>\n",
       "  <tbody>\n",
       "  </tbody>\n",
       "</table>\n",
       "</div>"
      ],
      "text/plain": [
       "Empty DataFrame\n",
       "Columns: [profile pic, nums/length username, fullname words, nums/length fullname, name==username, description length, external URL, private, #posts, #followers, #follows]\n",
       "Index: []"
      ]
     },
     "execution_count": 150,
     "metadata": {},
     "output_type": "execute_result"
    }
   ],
   "source": [
    "# Generate pandas dataframe \n",
    "l_test_data = pd.DataFrame(l_table,\n",
    "                         columns = ['profile pic', \n",
    "                                    'nums/length username', \n",
    "                                    'fullname words',\n",
    "                                    'nums/length fullname',\n",
    "                                    'name==username',\n",
    "                                    'description length',\n",
    "                                    'external URL',\n",
    "                                    'private',\n",
    "                                    '#posts',\n",
    "                                    '#followers',\n",
    "                                    '#follows'])\n",
    "l_test_data"
   ]
  },
  {
   "cell_type": "markdown",
   "metadata": {},
   "source": [
    "Finally, make the prediction!"
   ]
  },
  {
   "cell_type": "code",
   "execution_count": null,
   "metadata": {},
   "outputs": [],
   "source": [
    "rfc = RandomForestClassifier()\n",
    "rfc_model = rfc.fit(train_X, train_Y)\n",
    "rfc_labels_likes = rfc_model.predict(l_test_data)\n",
    "rfc_labels_likes"
   ]
  },
  {
   "cell_type": "markdown",
   "metadata": {},
   "source": [
    "Calculate the fake accounts that liked the user's media"
   ]
  },
  {
   "cell_type": "code",
   "execution_count": null,
   "metadata": {},
   "outputs": [],
   "source": [
    "no_fake_likes = len([x for x in rfc_labels_likes if x==1])"
   ]
  },
  {
   "cell_type": "markdown",
   "metadata": {},
   "source": [
    "Calculate the media likes authenticity"
   ]
  },
  {
   "cell_type": "code",
   "execution_count": null,
   "metadata": {},
   "outputs": [],
   "source": [
    "media_authenticity = (len(random_likers) - no_fake_likes) * 100 / len(random_likers)\n",
    "print(\"The media with the ID:XXXXX has \" + str(media_authenticity) + \"% authentic likes.\")"
   ]
  },
  {
   "cell_type": "markdown",
   "metadata": {},
   "source": [
    "## Part 7: Comparison With Another User\n",
    "I have specifically chosen user X because I trusted their social media 'game' and seemed to have a loyal and engaged following. Let's compare their metrics with a user Y, a user that has a noticable follower growth spike when examined on SocialBlade.\n",
    "\n",
    "I am going to skip the explanation here because it's just a repetition of the steps performed on user X."
   ]
  },
  {
   "cell_type": "code",
   "execution_count": null,
   "metadata": {},
   "outputs": [],
   "source": [
    "# Re-login because of API call limits \n",
    "api = login()"
   ]
  },
  {
   "cell_type": "code",
   "execution_count": null,
   "metadata": {},
   "outputs": [],
   "source": [
    "userID_y = get_ID('<USERNAME>')"
   ]
  },
  {
   "cell_type": "code",
   "execution_count": null,
   "metadata": {},
   "outputs": [],
   "source": [
    "rank = api.generate_uuid()"
   ]
  },
  {
   "cell_type": "markdown",
   "metadata": {},
   "source": [
    "**USER Y FOLLOWERS ANALYSIS**"
   ]
  },
  {
   "cell_type": "code",
   "execution_count": null,
   "metadata": {},
   "outputs": [],
   "source": [
    "y_followers = get_followers(userID_y, rank)"
   ]
  },
  {
   "cell_type": "code",
   "execution_count": null,
   "metadata": {},
   "outputs": [],
   "source": [
    "y_random_followers = random.sample(y_followers, 50)"
   ]
  },
  {
   "cell_type": "code",
   "execution_count": null,
   "metadata": {},
   "outputs": [],
   "source": [
    "y_infos = []\n",
    "\n",
    "for follower in y_random_followers:\n",
    "    info = api.user_info(get_ID(follower))['user']\n",
    "    y_infos.append(info)"
   ]
  },
  {
   "cell_type": "code",
   "execution_count": 159,
   "metadata": {},
   "outputs": [
    {
     "data": {
      "text/plain": [
       "[]"
      ]
     },
     "execution_count": 159,
     "metadata": {},
     "output_type": "execute_result"
    }
   ],
   "source": [
    "y_table = []\n",
    "\n",
    "for info in y_infos:\n",
    "    y_table.append(get_data(info))\n",
    "    \n",
    "y_table"
   ]
  },
  {
   "cell_type": "code",
   "execution_count": null,
   "metadata": {},
   "outputs": [],
   "source": [
    "# Generate pandas dataframe \n",
    "y_test_data = pd.DataFrame(y_table,\n",
    "                         columns = ['profile pic', \n",
    "                                    'nums/length username', \n",
    "                                    'fullname words',\n",
    "                                    'nums/length fullname',\n",
    "                                    'name==username',\n",
    "                                    'description length',\n",
    "                                    'external URL',\n",
    "                                    'private',\n",
    "                                    '#posts',\n",
    "                                    '#followers',\n",
    "                                    '#follows'])\n",
    "y_test_data"
   ]
  },
  {
   "cell_type": "code",
   "execution_count": null,
   "metadata": {},
   "outputs": [],
   "source": [
    "# Predict (no retraining!)\n",
    "rfc_labels_y = rfc_model.predict(y_test_data)\n",
    "rfc_labels_y"
   ]
  },
  {
   "cell_type": "code",
   "execution_count": 168,
   "metadata": {},
   "outputs": [],
   "source": [
    "# Calculate the number of fake accounts in the random sample of 50 followers\n",
    "no_fakes_y = len([x for x in rfc_labels_y if x==1])"
   ]
  },
  {
   "cell_type": "code",
   "execution_count": 216,
   "metadata": {},
   "outputs": [
    {
     "name": "stdout",
     "output_type": "stream",
     "text": [
      "User Y's Instagram Followers is 38.0% authentic.\n"
     ]
    }
   ],
   "source": [
    "# Calculate the authenticity\n",
    "y_authenticity = (len(y_random_followers) - no_fakes_y) * 100 / len(y_random_followers)\n",
    "print(\"User Y's Instagram Followers is \" + str(y_authenticity) + \"% authentic.\")"
   ]
  },
  {
   "cell_type": "markdown",
   "metadata": {},
   "source": [
    "Ahh, the joys of being right!"
   ]
  },
  {
   "cell_type": "markdown",
   "metadata": {},
   "source": [
    "**USER Y LIKES ANALYSIS**"
   ]
  },
  {
   "cell_type": "code",
   "execution_count": 191,
   "metadata": {},
   "outputs": [
    {
     "name": "stdout",
     "output_type": "stream",
     "text": [
      "Total posts retrieved: 18\n"
     ]
    }
   ],
   "source": [
    "y_posts = get_user_posts(userID_y, 10)"
   ]
  },
  {
   "cell_type": "code",
   "execution_count": 192,
   "metadata": {},
   "outputs": [],
   "source": [
    "y_random_post = random.sample(y_posts, 1)"
   ]
  },
  {
   "cell_type": "code",
   "execution_count": 193,
   "metadata": {},
   "outputs": [],
   "source": [
    "y_likers = api.media_likers(y_random_post[0]['id'])"
   ]
  },
  {
   "cell_type": "code",
   "execution_count": 194,
   "metadata": {},
   "outputs": [],
   "source": [
    "y_likers_usernames = [liker['username'] for liker in y_likers['users']]"
   ]
  },
  {
   "cell_type": "code",
   "execution_count": 207,
   "metadata": {},
   "outputs": [],
   "source": [
    "y_random_likers = random.sample(y_likers_usernames, 50)"
   ]
  },
  {
   "cell_type": "code",
   "execution_count": 210,
   "metadata": {},
   "outputs": [],
   "source": [
    "y_likers_infos = []\n",
    "\n",
    "for liker in y_random_likers:\n",
    "    info = api.user_info(get_ID(liker))['user']\n",
    "    y_likers_infos.append(info)"
   ]
  },
  {
   "cell_type": "code",
   "execution_count": null,
   "metadata": {},
   "outputs": [],
   "source": [
    "y_likers_table = []\n",
    "\n",
    "for info in y_likers_infos:\n",
    "    y_likers_table.append(get_data(info))\n",
    "    \n",
    "y_likers_table"
   ]
  },
  {
   "cell_type": "code",
   "execution_count": null,
   "metadata": {},
   "outputs": [],
   "source": [
    "y_likers_data = pd.DataFrame(y_likers_table,\n",
    "                         columns = ['profile pic', \n",
    "                                    'nums/length username', \n",
    "                                    'fullname words',\n",
    "                                    'nums/length fullname',\n",
    "                                    'name==username',\n",
    "                                    'description length',\n",
    "                                    'external URL',\n",
    "                                    'private',\n",
    "                                    '#posts',\n",
    "                                    '#followers',\n",
    "                                    '#follows'])\n",
    "y_likers_data"
   ]
  },
  {
   "cell_type": "code",
   "execution_count": 213,
   "metadata": {},
   "outputs": [
    {
     "data": {
      "text/plain": [
       "array([0, 1, 0, 0, 0, 0, 0, 0, 0, 0, 0, 0, 0, 0, 0, 0, 0, 0, 0, 0, 0, 0,\n",
       "       0, 0, 0, 0, 0, 0, 0, 0, 0, 0, 0, 0, 0, 0, 0, 0, 0, 0, 0, 0, 1, 0,\n",
       "       0, 0, 0, 0, 0, 0])"
      ]
     },
     "execution_count": 213,
     "metadata": {},
     "output_type": "execute_result"
    }
   ],
   "source": [
    "# Predict!\n",
    "y_likers_pred = rfc_model.predict(y_likers_data)\n",
    "y_likers_pred"
   ]
  },
  {
   "cell_type": "code",
   "execution_count": 218,
   "metadata": {},
   "outputs": [
    {
     "name": "stdout",
     "output_type": "stream",
     "text": [
      "The media with the ID:YYYYY has 96.0% authentic likes.\n"
     ]
    }
   ],
   "source": [
    "# Calculate the number of fake likes\n",
    "no_fakes_yl = len([x for x in y_likers_pred if x==1])\n",
    "\n",
    "# Calculate media likes authenticity\n",
    "y_post_authenticity = (len(y_random_likers) - no_fakes_yl) * 100 / len(y_random_likers)\n",
    "print(\"The media with the ID:YYYYY has \" + str(y_post_authenticity) + \"% authentic likes.\")"
   ]
  },
  {
   "cell_type": "markdown",
   "metadata": {},
   "source": [
    "Very high likes authenticity but very low follower authenticity? How is that possible?"
   ]
  },
  {
   "cell_type": "markdown",
   "metadata": {},
   "source": [
    "We can use **engagement rates** to explain this phenomena further.\n",
    "\n",
    "Engagement rate = average number of engagements (likes+comments) / number of followers)"
   ]
  },
  {
   "cell_type": "code",
   "execution_count": 220,
   "metadata": {},
   "outputs": [
    {
     "data": {
      "text/plain": [
       "dict_keys(['taken_at', 'pk', 'id', 'device_timestamp', 'media_type', 'code', 'client_cache_key', 'filter_type', 'carousel_media_count', 'carousel_media', 'can_see_insights_as_brand', 'location', 'lat', 'lng', 'user', 'can_viewer_reshare', 'caption_is_edited', 'comment_likes_enabled', 'comment_threading_enabled', 'has_more_comments', 'max_num_visible_preview_comments', 'preview_comments', 'can_view_more_preview_comments', 'comment_count', 'inline_composer_display_condition', 'inline_composer_imp_trigger_time', 'like_count', 'has_liked', 'top_likers', 'photo_of_you', 'caption', 'can_viewer_save', 'organic_tracking_token'])"
      ]
     },
     "execution_count": 220,
     "metadata": {},
     "output_type": "execute_result"
    }
   ],
   "source": [
    "y_posts[0].keys()"
   ]
  },
  {
   "cell_type": "code",
   "execution_count": 226,
   "metadata": {},
   "outputs": [
    {
     "data": {
      "text/plain": [
       "9.50268408791654"
      ]
     },
     "execution_count": 226,
     "metadata": {},
     "output_type": "execute_result"
    }
   ],
   "source": [
    "count = 0\n",
    "\n",
    "for post in y_posts:\n",
    "    count += post['comment_count']\n",
    "    count += post['like_count']\n",
    "    \n",
    "average_engagements = count / len(y_posts)\n",
    "engagement_rate = average_engagements*100 / len(y_followers)\n",
    "\n",
    "engagement_rate"
   ]
  },
  {
   "cell_type": "markdown",
   "metadata": {},
   "source": [
    "This means that only roughly 9.5% of user Y's followers engage with their content. "
   ]
  },
  {
   "cell_type": "markdown",
   "metadata": {},
   "source": [
    "## Part 8: Thoughts"
   ]
  },
  {
   "cell_type": "markdown",
   "metadata": {},
   "source": [
    "**Making sense of the result**\n",
    "\n",
    "So user X received an 82% follower authenticity score and a 92% media likes authenticity on one of their posts. Is that good enough? What about user Y with a 35% follower authenticity score and a 96% media likes authenticity?\n",
    "\n",
    "Since this entire notebook is an exploratory analysis, there's not really a hard line between a 'good' influencer and a 'bad' influencer. For user X, we can tell that the user has authentic and loyal followers. However for user Y, we can assume that they have a rather low authentic follower score, however their likes consist of real followers. This means that user Y might have invested on buying followers, but not likes! This causes a really low engagement rate.\n",
    "\n",
    "In fact, with a little bit more research, you can sort of establish a pattern just by observation:\n",
    "- High follower authenticity, high media authenticity, high engagement rate = authentic user\n",
    "- Low follower authenticity, high media authenticity, low engagement rate = buys followers, does not buy likes\n",
    "- Low follower authenticity, high media authenticity, high engagement rate = buys followers AND likes\n",
    "- ... and so on!\n",
    "\n",
    "**So is this influencer worth investing or not?**\n",
    "\n",
    "Remember that we used a *random sample* of 50 followers out of thousands. As objective as random sampling could be, it still isn't an *absolutely complete* picture of the user's followers. However, the follower authenticity combined with the media likes authenticity still provides an insight for brands who are planning to invest on the influencer. \n",
    "\n",
    "Personally, I feel like any number under 50% is rather suspicious, and there are other ways that you can confirm this suspicion:\n",
    "- Low engagement rates (engagement rate = average number of engagements (likes+comments) / number of followers)\n",
    "- Spikes in follower growth (uneven growth chart)\n",
    "- Comments (loyal followers acutally care about the user's content)\n",
    "\n",
    "But of course, you have to be aware of tech-savvy influencers who cheats the audit system and try to avoid getting caught, such as influencers who buys 'drip-followers' - i.e. you buy followers in bulk but they arrive slowly. This method will make their follower growth seem gradual."
   ]
  },
  {
   "cell_type": "markdown",
   "metadata": {},
   "source": [
    "**Conclusion**\n",
    "\n",
    "The rapid growth of technology allows anyone with a computer to create bots to follow users and like media on any platform. However, this also means that our ability to detect fake engagements should also improve!\n",
    "\n",
    "Businesses, small or large, invest on social media influencers to reach a wider audience, especially during times of a global pandemic where everyone is constantly on their phones! Less tech-savvy and less aware ones are prone to this kind of misinformation.\n",
    "\n",
    "For brands who rely on influencers for marketing, it is highly recommended to check out services such as SocialBlade to check user authenticity and engagement. Some services are more pricey, but is definitely worth the investment!\n"
   ]
  }
 ],
 "metadata": {
  "kernelspec": {
   "display_name": "venv",
   "language": "python",
   "name": "python3"
  },
  "language_info": {
   "codemirror_mode": {
    "name": "ipython",
    "version": 3
   },
   "file_extension": ".py",
   "mimetype": "text/x-python",
   "name": "python",
   "nbconvert_exporter": "python",
   "pygments_lexer": "ipython3",
   "version": "3.12.3"
  }
 },
 "nbformat": 4,
 "nbformat_minor": 4
}
